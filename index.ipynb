{
  "cells": [
    {
      "cell_type": "markdown",
      "metadata": {
        "id": "view-in-github",
        "colab_type": "text"
      },
      "source": [
        "<a href=\"https://colab.research.google.com/github/AURALIA-MALIK/dsc-nlp-lab/blob/master/index.ipynb\" target=\"_parent\"><img src=\"https://colab.research.google.com/assets/colab-badge.svg\" alt=\"Open In Colab\"/></a>"
      ]
    },
    {
      "cell_type": "markdown",
      "metadata": {
        "id": "_yNDHBdMFcJJ"
      },
      "source": [
        "# Text Classification - Cumulative Lab\n",
        "\n",
        "## Introduction\n",
        "\n",
        "In this cumulative lab, we'll use everything we've learned so far to build a model that can classify a text document as one of many possible classes!\n",
        "\n",
        "## Objectives\n",
        "\n",
        "You will be able to:\n",
        "\n",
        "- Practice cleaning and exploring a text dataset with NLTK and base Python\n",
        "- Practice using scikit-learn vectorizers for text preprocessing\n",
        "- Tune a modeling process through exploration and model evaluation\n",
        "- Observe some techniques for feature engineering\n",
        "- Interpret the result of a final ML model that classifies text data"
      ]
    },
    {
      "cell_type": "markdown",
      "metadata": {
        "id": "Jk7E4LWsFcJ3"
      },
      "source": [
        "## Your Task: Complete an End-to-End ML Process with the Newsgroups Dataset\n",
        "\n",
        "<a title=\"Bundesarchiv, B 145 Bild-F077948-0006 / Engelbert Reineke / CC-BY-SA 3.0, CC BY-SA 3.0 DE &lt;https://creativecommons.org/licenses/by-sa/3.0/de/deed.en&gt;, via Wikimedia Commons\" href=\"https://commons.wikimedia.org/wiki/File:Bundesarchiv_B_145_Bild-F077948-0006,_Jugend-Computerschule_mit_IBM-PC.jpg\"><img width=\"512\" alt=\"Bundesarchiv B 145 Bild-F077948-0006, Jugend-Computerschule mit IBM-PC\" src=\"https://upload.wikimedia.org/wikipedia/commons/e/e9/Bundesarchiv_B_145_Bild-F077948-0006%2C_Jugend-Computerschule_mit_IBM-PC.jpg\"></a>"
      ]
    },
    {
      "cell_type": "markdown",
      "metadata": {
        "id": "_CZJ_1RwFcJ7"
      },
      "source": [
        "### Business Understanding\n",
        "\n",
        "The ***Newsgroups Dataset*** is a collection of [newsgroup](https://en.wikipedia.org/wiki/Usenet_newsgroup) posts originally collected around 1995. While the backend code implementation is fairly different, you can think of them as like the Reddit posts of 1995, where a \"category\" in this dataset is like a subreddit.\n",
        "\n",
        "The task is to try to identify the category where a post was published, based on the text content of the post.\n",
        "\n",
        "### Data Understanding\n",
        "\n",
        "#### Data Source\n",
        "\n",
        "Part of what you are practicing here is using the `sklearn.datasets` submodule, which you have seen before (e.g. the Iris Dataset, the Wine Dataset). You can see a full list of available dataset loaders [here](https://scikit-learn.org/stable/modules/classes.html#module-sklearn.datasets).\n",
        "\n",
        "In this case we will be using the `fetch_20newsgroups` function ([documentation here](https://scikit-learn.org/stable/modules/generated/sklearn.datasets.fetch_20newsgroups.html)). An important thing to note is that because this is text data, scikit-learn actually downloads a set of documents to the computer you are using to complete this lab, rather than just loading data into memory in Python.\n",
        "\n",
        "#### Features\n",
        "\n",
        "Prior to preprocessing, every row in the dataset only contains one feature: a string containing the full text of the newsgroup post. We will perform preprocessing to create additional features.\n",
        "\n",
        "#### Target\n",
        "\n",
        "As you might have guessed based on the function name, there are 20 categories in the full dataset. Here is a list of all the possible classes:\n",
        "\n",
        "<img src='classes.png'>\n",
        "\n",
        "This full dataset is quite large. To save us from extremely long runtimes, we'll work with only a subset of the classes. For this lab, we'll work with the following five:\n",
        "\n",
        "* `'comp.windows.x'`\n",
        "* `'rec.sport.hockey'`\n",
        "* `'misc.forsale'`\n",
        "* `'sci.crypt'`\n",
        "* `'talk.politics.misc'`"
      ]
    },
    {
      "cell_type": "markdown",
      "metadata": {
        "id": "RQB8P6BPFcJ_"
      },
      "source": [
        "### Requirements\n",
        "\n",
        "#### 1. Load the Data\n",
        "\n",
        "Use pandas and `sklearn.datasets` to load the train and test data into appropriate data structures. Then get a sense of what is in this dataset by visually inspecting some samples.\n",
        "\n",
        "#### 2. Perform Data Cleaning and Exploratory Data Analysis with `nltk`\n",
        "\n",
        "Standardize the case of the data and use a tokenizer to convert the full posts into lists of individual words. Then compare the raw word frequency distributions of each category.\n",
        "\n",
        "#### 3. Build and Evaluate a Baseline Model with `TfidfVectorizer` and `MultinomialNB`\n",
        "\n",
        "Ultimately all data must be in numeric form in order to be able to fit a scikit-learn model. So we'll use a tool from `sklearn.feature_extraction.text` to convert all data into a vectorized format.\n",
        "\n",
        "Initially we'll keep all of the default parameters for both the vectorizer and the model, in order to develop a baseline score.\n",
        "\n",
        "#### 4. Iteratively Perform and Evaluate Preprocessing and Feature Engineering Techniques\n",
        "\n",
        "Here you will investigate three techniques, to determine whether they should be part of our final modeling process:\n",
        "\n",
        "1. Removing stopwords\n",
        "2. Using custom tokens\n",
        "3. Domain-specific feature engineering\n",
        "4. Increasing `max_features`\n",
        "\n",
        "#### 5. Evaluate a Final Model on the Test Set\n",
        "\n",
        "Once you have chosen a final modeling process, fit it on the full training data and evaluate it on the test data. "
      ]
    },
    {
      "cell_type": "markdown",
      "metadata": {
        "id": "C5veYOWJFcKD"
      },
      "source": [
        "## 1. Load the Data\n",
        "\n",
        "In the cell below, create the variables `newsgroups_train` and `newsgroups_test` by calling the `fetch_20newsgroups` function twice.\n",
        "\n",
        "For the train set, specify `subset=\"train\"`. For the test set, specify `subset=\"test\"`.\n",
        "\n",
        "Additionally, pass in `remove=('headers', 'footers', 'quotes')` in both function calls, in order to automatically remove some metadata that can lead to overfitting.\n",
        "\n",
        "Recall that we are loading only five categories, out of the full 20. So, pass in `categories=categories` both times."
      ]
    },
    {
      "cell_type": "code",
      "execution_count": 1,
      "metadata": {
        "id": "tRaxWXyPFcKF"
      },
      "outputs": [],
      "source": [
        "# Replace None with appropriate code\n",
        "from sklearn.datasets import fetch_20newsgroups\n",
        "\n",
        "categories = [\n",
        "    'comp.windows.x',\n",
        "    'rec.sport.hockey',\n",
        "    'misc.forsale',\n",
        "    'sci.crypt',\n",
        "    'talk.politics.misc'\n",
        "]\n",
        "\n",
        "newsgroups_train = fetch_20newsgroups(\n",
        "    subset=\"train\",\n",
        "    remove=('headers', 'footers', 'quotes'),\n",
        "    categories=categories\n",
        ")\n",
        "\n",
        "newsgroups_test = fetch_20newsgroups(\n",
        "    subset=\"test\",\n",
        "    remove=('headers', 'footers', 'quotes'),\n",
        "    categories=categories\n",
        ")"
      ]
    },
    {
      "cell_type": "markdown",
      "metadata": {
        "id": "QX0kCTsXFcKI"
      },
      "source": [
        "Each of the returned objects is a dictionary-like `Bunch` ([documentation here](https://scikit-learn.org/stable/modules/generated/sklearn.utils.Bunch.html)):"
      ]
    },
    {
      "cell_type": "code",
      "execution_count": 2,
      "metadata": {
        "colab": {
          "base_uri": "https://localhost:8080/"
        },
        "id": "N0ud04J_FcKJ",
        "outputId": "261430c7-fa8c-48ad-aa72-2102d894f86f"
      },
      "outputs": [
        {
          "output_type": "execute_result",
          "data": {
            "text/plain": [
              "sklearn.utils._bunch.Bunch"
            ]
          },
          "metadata": {},
          "execution_count": 2
        }
      ],
      "source": [
        "# Run this cell without changes\n",
        "type(newsgroups_train)"
      ]
    },
    {
      "cell_type": "markdown",
      "metadata": {
        "id": "b2fo1WnnFcKL"
      },
      "source": [
        "The important thing to know is that the `.data` attribute will extract the feature values, and the `.target` attribute will extract the target values. So, for example, the train features (`X_train`) are located in `newsgroups_train.data`, whereas the train targets (`y_train`) are located in `newsgroups_train.target`.\n",
        "\n",
        "In the cell below, create `X_train`, `X_test`, `y_train`, `y_test` based on `newsgroups_train` and `newsgroups_test`."
      ]
    },
    {
      "cell_type": "code",
      "execution_count": 3,
      "metadata": {
        "id": "8YUr2iAXFcKM"
      },
      "outputs": [],
      "source": [
        "# Replace None with appropriate code\n",
        "import pandas as pd\n",
        "pd.set_option('max_colwidth', 400)\n",
        "pd.set_option('use_mathjax', False)\n",
        "\n",
        "# Extract values from Bunch objects\n",
        "X_train = pd.DataFrame(newsgroups_train.data, columns=[\"text\"])\n",
        "X_test = pd.DataFrame(newsgroups_test.data, columns=[\"text\"])\n",
        "y_train = pd.Series(newsgroups_train.target, name=\"category\")\n",
        "y_test = pd.Series(newsgroups_test.target, name=\"category\")"
      ]
    },
    {
      "cell_type": "markdown",
      "metadata": {
        "id": "m4g-c3OXFcKN"
      },
      "source": [
        "Double-check that your variables have the correct shape below:"
      ]
    },
    {
      "cell_type": "code",
      "execution_count": 4,
      "metadata": {
        "id": "y9kROeGiFcKO"
      },
      "outputs": [],
      "source": [
        "# Run this cell without changes\n",
        "\n",
        "# X_train and X_test both have 1 column (text)\n",
        "assert X_train.shape[1] == X_test.shape[1] and X_train.shape[1] == 1\n",
        "\n",
        "# y_train and y_test are 1-dimensional (target value only)\n",
        "assert len(y_train.shape) == len(y_test.shape) and len(y_train.shape) == 1\n",
        "\n",
        "# X_train and y_train have the same number of rows\n",
        "assert X_train.shape[0] == y_train.shape[0] and X_train.shape[0] == 2838\n",
        "\n",
        "# X_test and y_test have the same number of rows\n",
        "assert X_test.shape[0] == y_test.shape[0] and X_test.shape[0] == 1890"
      ]
    },
    {
      "cell_type": "markdown",
      "metadata": {
        "id": "btpTWf0FFcKP"
      },
      "source": [
        "And now let's look at some basic attributes of the dataset.\n",
        "\n",
        "#### Distribution of Target\n",
        "\n",
        "We know that there are five categories represented. How many are there of each?"
      ]
    },
    {
      "cell_type": "code",
      "execution_count": 5,
      "metadata": {
        "colab": {
          "base_uri": "https://localhost:8080/",
          "height": 238
        },
        "id": "fPIdn7tWFcKQ",
        "outputId": "f6e47dfb-bf12-4002-c388-96db20feb6de"
      },
      "outputs": [
        {
          "output_type": "execute_result",
          "data": {
            "text/plain": [
              "              count         target name\n",
              "target value                           \n",
              "2               600    rec.sport.hockey\n",
              "3               595           sci.crypt\n",
              "0               593      comp.windows.x\n",
              "1               585        misc.forsale\n",
              "4               465  talk.politics.misc"
            ],
            "text/html": [
              "\n",
              "  <div id=\"df-7f0907a3-aad7-4ab1-aab5-bdf95d0331fe\">\n",
              "    <div class=\"colab-df-container\">\n",
              "      <div>\n",
              "<style scoped>\n",
              "    .dataframe tbody tr th:only-of-type {\n",
              "        vertical-align: middle;\n",
              "    }\n",
              "\n",
              "    .dataframe tbody tr th {\n",
              "        vertical-align: top;\n",
              "    }\n",
              "\n",
              "    .dataframe thead th {\n",
              "        text-align: right;\n",
              "    }\n",
              "</style>\n",
              "<table border=\"1\" class=\"dataframe tex2jax_ignore\">\n",
              "  <thead>\n",
              "    <tr style=\"text-align: right;\">\n",
              "      <th></th>\n",
              "      <th>count</th>\n",
              "      <th>target name</th>\n",
              "    </tr>\n",
              "    <tr>\n",
              "      <th>target value</th>\n",
              "      <th></th>\n",
              "      <th></th>\n",
              "    </tr>\n",
              "  </thead>\n",
              "  <tbody>\n",
              "    <tr>\n",
              "      <th>2</th>\n",
              "      <td>600</td>\n",
              "      <td>rec.sport.hockey</td>\n",
              "    </tr>\n",
              "    <tr>\n",
              "      <th>3</th>\n",
              "      <td>595</td>\n",
              "      <td>sci.crypt</td>\n",
              "    </tr>\n",
              "    <tr>\n",
              "      <th>0</th>\n",
              "      <td>593</td>\n",
              "      <td>comp.windows.x</td>\n",
              "    </tr>\n",
              "    <tr>\n",
              "      <th>1</th>\n",
              "      <td>585</td>\n",
              "      <td>misc.forsale</td>\n",
              "    </tr>\n",
              "    <tr>\n",
              "      <th>4</th>\n",
              "      <td>465</td>\n",
              "      <td>talk.politics.misc</td>\n",
              "    </tr>\n",
              "  </tbody>\n",
              "</table>\n",
              "</div>\n",
              "      <button class=\"colab-df-convert\" onclick=\"convertToInteractive('df-7f0907a3-aad7-4ab1-aab5-bdf95d0331fe')\"\n",
              "              title=\"Convert this dataframe to an interactive table.\"\n",
              "              style=\"display:none;\">\n",
              "        \n",
              "  <svg xmlns=\"http://www.w3.org/2000/svg\" height=\"24px\"viewBox=\"0 0 24 24\"\n",
              "       width=\"24px\">\n",
              "    <path d=\"M0 0h24v24H0V0z\" fill=\"none\"/>\n",
              "    <path d=\"M18.56 5.44l.94 2.06.94-2.06 2.06-.94-2.06-.94-.94-2.06-.94 2.06-2.06.94zm-11 1L8.5 8.5l.94-2.06 2.06-.94-2.06-.94L8.5 2.5l-.94 2.06-2.06.94zm10 10l.94 2.06.94-2.06 2.06-.94-2.06-.94-.94-2.06-.94 2.06-2.06.94z\"/><path d=\"M17.41 7.96l-1.37-1.37c-.4-.4-.92-.59-1.43-.59-.52 0-1.04.2-1.43.59L10.3 9.45l-7.72 7.72c-.78.78-.78 2.05 0 2.83L4 21.41c.39.39.9.59 1.41.59.51 0 1.02-.2 1.41-.59l7.78-7.78 2.81-2.81c.8-.78.8-2.07 0-2.86zM5.41 20L4 18.59l7.72-7.72 1.47 1.35L5.41 20z\"/>\n",
              "  </svg>\n",
              "      </button>\n",
              "      \n",
              "  <style>\n",
              "    .colab-df-container {\n",
              "      display:flex;\n",
              "      flex-wrap:wrap;\n",
              "      gap: 12px;\n",
              "    }\n",
              "\n",
              "    .colab-df-convert {\n",
              "      background-color: #E8F0FE;\n",
              "      border: none;\n",
              "      border-radius: 50%;\n",
              "      cursor: pointer;\n",
              "      display: none;\n",
              "      fill: #1967D2;\n",
              "      height: 32px;\n",
              "      padding: 0 0 0 0;\n",
              "      width: 32px;\n",
              "    }\n",
              "\n",
              "    .colab-df-convert:hover {\n",
              "      background-color: #E2EBFA;\n",
              "      box-shadow: 0px 1px 2px rgba(60, 64, 67, 0.3), 0px 1px 3px 1px rgba(60, 64, 67, 0.15);\n",
              "      fill: #174EA6;\n",
              "    }\n",
              "\n",
              "    [theme=dark] .colab-df-convert {\n",
              "      background-color: #3B4455;\n",
              "      fill: #D2E3FC;\n",
              "    }\n",
              "\n",
              "    [theme=dark] .colab-df-convert:hover {\n",
              "      background-color: #434B5C;\n",
              "      box-shadow: 0px 1px 3px 1px rgba(0, 0, 0, 0.15);\n",
              "      filter: drop-shadow(0px 1px 2px rgba(0, 0, 0, 0.3));\n",
              "      fill: #FFFFFF;\n",
              "    }\n",
              "  </style>\n",
              "\n",
              "      <script>\n",
              "        const buttonEl =\n",
              "          document.querySelector('#df-7f0907a3-aad7-4ab1-aab5-bdf95d0331fe button.colab-df-convert');\n",
              "        buttonEl.style.display =\n",
              "          google.colab.kernel.accessAllowed ? 'block' : 'none';\n",
              "\n",
              "        async function convertToInteractive(key) {\n",
              "          const element = document.querySelector('#df-7f0907a3-aad7-4ab1-aab5-bdf95d0331fe');\n",
              "          const dataTable =\n",
              "            await google.colab.kernel.invokeFunction('convertToInteractive',\n",
              "                                                     [key], {});\n",
              "          if (!dataTable) return;\n",
              "\n",
              "          const docLinkHtml = 'Like what you see? Visit the ' +\n",
              "            '<a target=\"_blank\" href=https://colab.research.google.com/notebooks/data_table.ipynb>data table notebook</a>'\n",
              "            + ' to learn more about interactive tables.';\n",
              "          element.innerHTML = '';\n",
              "          dataTable['output_type'] = 'display_data';\n",
              "          await google.colab.output.renderOutput(dataTable, element);\n",
              "          const docLink = document.createElement('div');\n",
              "          docLink.innerHTML = docLinkHtml;\n",
              "          element.appendChild(docLink);\n",
              "        }\n",
              "      </script>\n",
              "    </div>\n",
              "  </div>\n",
              "  "
            ]
          },
          "metadata": {},
          "execution_count": 5
        }
      ],
      "source": [
        "# Run this cell without changes\n",
        "\n",
        "train_target_counts = pd.DataFrame(y_train.value_counts())\n",
        "train_target_counts[\"label\"] = [newsgroups_train.target_names[val] for val in train_target_counts.index]\n",
        "train_target_counts.columns = [\"count\", \"target name\"]\n",
        "train_target_counts.index.name = \"target value\"\n",
        "train_target_counts"
      ]
    },
    {
      "cell_type": "markdown",
      "metadata": {
        "id": "j368ubwRFcKR"
      },
      "source": [
        "So, for example, the category \"comp.windows.x\" has the label of `0` in our dataset, and there are 593 text samples in that category within our training data.\n",
        "\n",
        "We also note that our target distribution looks reasonably balanced. Now let's look at the features.\n",
        "\n",
        "#### Visually Inspecting Features\n",
        "\n",
        "Run the cell below to view some examples of the features:"
      ]
    },
    {
      "cell_type": "code",
      "execution_count": 6,
      "metadata": {
        "colab": {
          "base_uri": "https://localhost:8080/",
          "height": 293
        },
        "id": "_suPOTHvFcKS",
        "outputId": "40ff6b23-254d-4012-8400-4c0af2c6a663"
      },
      "outputs": [
        {
          "output_type": "execute_result",
          "data": {
            "text/plain": [
              "<pandas.io.formats.style.Styler at 0x7f7670d7fa90>"
            ],
            "text/html": [
              "<style type=\"text/css\">\n",
              "#T_ee1bc_row0_col0, #T_ee1bc_row0_col1, #T_ee1bc_row1_col0, #T_ee1bc_row1_col1, #T_ee1bc_row2_col0, #T_ee1bc_row2_col1, #T_ee1bc_row3_col0, #T_ee1bc_row3_col1, #T_ee1bc_row4_col0, #T_ee1bc_row4_col1 {\n",
              "  text-align: left;\n",
              "}\n",
              "</style>\n",
              "<table id=\"T_ee1bc\" class=\"dataframe\">\n",
              "  <thead>\n",
              "    <tr>\n",
              "      <th class=\"blank level0\" >&nbsp;</th>\n",
              "      <th id=\"T_ee1bc_level0_col0\" class=\"col_heading level0 col0\" >text</th>\n",
              "      <th id=\"T_ee1bc_level0_col1\" class=\"col_heading level0 col1\" >label</th>\n",
              "    </tr>\n",
              "  </thead>\n",
              "  <tbody>\n",
              "    <tr>\n",
              "      <th id=\"T_ee1bc_level0_row0\" class=\"row_heading level0 row0\" >1300</th>\n",
              "      <td id=\"T_ee1bc_row0_col0\" class=\"data row0 col0\" >\n",
              "\n",
              "\n",
              "   Ncd has an excellent document titled \"Host Loading Considerations in the X \n",
              "  environment\". I received my copy by emailing support@ncd.com. This may\n",
              "  help out.</td>\n",
              "      <td id=\"T_ee1bc_row0_col1\" class=\"data row0 col1\" >0</td>\n",
              "    </tr>\n",
              "    <tr>\n",
              "      <th id=\"T_ee1bc_level0_row1\" class=\"row_heading level0 row1\" >1758</th>\n",
              "      <td id=\"T_ee1bc_row1_col0\" class=\"data row1 col0\" >\n",
              "\n",
              " \n",
              "           You don't have to.  *It*  believes in YOU.\n",
              "\n",
              "\n",
              "\n",
              "\n",
              "        Well, looking at our new government pals, I'm inclined to\n",
              "        agree.  I don't much believe in our money, either. :)\n",
              "\n",
              "\n",
              "\n",
              "\n",
              "    Oh, ho HO!   If only you knew!  :)\n",
              "\n",
              "    Yup, I'm DEFINITELY checking out foreign currency, thanks to\n",
              "    to this newsgroup.  It sure doesn't take much thinking to realize\n",
              "    what direction the U.S. is headed.\n",
              "\n",
              "\n",
              "</td>\n",
              "      <td id=\"T_ee1bc_row1_col1\" class=\"data row1 col1\" >4</td>\n",
              "    </tr>\n",
              "    <tr>\n",
              "      <th id=\"T_ee1bc_level0_row2\" class=\"row_heading level0 row2\" >2558</th>\n",
              "      <td id=\"T_ee1bc_row2_col0\" class=\"data row2 col0\" >Miscellaneous comics for sale. I really would like\n",
              "to get rid of these for lack of space. Buyer pays\n",
              "shipping, and all offers considered. OH, and the\n",
              "first purchase over $20 in any of my posts\n",
              "gets a free Maxx #1/2 coupon, or a trashed copy\n",
              "of Amazing spidey #300. Here goes...\n",
              "\n",
              "\n",
              "Deathlok         #1           $3.00\n",
              "                 2-17         $1.75 each\n",
              "                 Annual #1     2.50\n",
              "                 Special #1    2.00\n",
              "\n",
              "Sleepwalker      1,2,6,8,9,13  7.00 (set) or 1.25\n",
              "                                             each\n",
              "\n",
              "\n",
              "Next Men         #1           $3.00\n",
              "Ray              #1            1.00\n",
              "Deathstroke      5,6           1.75 each\n",
              "Darkhawk         13            1.25\n",
              "New warrior's    18            1.00\n",
              "Fantasti Four    358           2.50\n",
              "Moon Knight      35,36         1.75 each\n",
              "Hulk             386-388       1.50 each\n",
              "\n",
              "Punisher W.Z.    1             2.50\n",
              "Cage             1             1.50\n",
              "X-force          1             2.00\n",
              "Silver Sable     1             2.00\n",
              "X-calibur        26,27,48,49   1.50 each\n",
              "\n",
              "\n",
              "Hearts of Darkness             5.00\n",
              "Infinity Guantlet     1-4      2.50 each\n",
              "Batman v. Pred.       1,3      2.00 each\n",
              " \"   \"  \"  (deluxe)   1        5.00\n",
              "\n",
              "Guardians of the\n",
              "Galaxy                1       3.00\n",
              "Spider-man 2099       1-3     5.00 (set)\n",
              "Spec. spider-man      189     3.00 (special hologram)\n",
              "\n",
              "Let me know if you'd like to buy anything. My\n",
              "address is U38134@uicvm.uic.edu</td>\n",
              "      <td id=\"T_ee1bc_row2_col1\" class=\"data row2 col1\" >1</td>\n",
              "    </tr>\n",
              "    <tr>\n",
              "      <th id=\"T_ee1bc_level0_row3\" class=\"row_heading level0 row3\" >2267</th>\n",
              "      <td id=\"T_ee1bc_row3_col0\" class=\"data row3 col0\" >\n",
              "\n",
              "My vote goes to Andy Moog 1st, Belfour 2nd, Vanbiesbrouck 3rd\n",
              "\n",
              "The Bruin's are hot at just the right time !!!!!\n",
              "\n",
              "\n",
              "rich beskosty</td>\n",
              "      <td id=\"T_ee1bc_row3_col1\" class=\"data row3 col1\" >2</td>\n",
              "    </tr>\n",
              "    <tr>\n",
              "      <th id=\"T_ee1bc_level0_row4\" class=\"row_heading level0 row4\" >1043</th>\n",
              "      <td id=\"T_ee1bc_row4_col0\" class=\"data row4 col0\" >\n",
              "\n",
              "Yes, \"Clipper\" is a trademark of Intergraph.  Its the RISC chip used\n",
              "in some of thier workstations. \n",
              "\n",
              "I wonder what Intergraph is going to do to this infringement on thier\n",
              "name sake?\n",
              "</td>\n",
              "      <td id=\"T_ee1bc_row4_col1\" class=\"data row4 col1\" >3</td>\n",
              "    </tr>\n",
              "  </tbody>\n",
              "</table>\n"
            ]
          },
          "metadata": {},
          "execution_count": 6
        }
      ],
      "source": [
        "# Run this cell without changes\n",
        "\n",
        "# Sample 5 records and display full text of each\n",
        "train_sample = X_train.sample(5, random_state=22)\n",
        "train_sample[\"label\"] = [y_train[val] for val in train_sample.index]\n",
        "train_sample.style.set_properties(**{'text-align': 'left'})"
      ]
    },
    {
      "cell_type": "markdown",
      "metadata": {
        "id": "VPwJctpxFcKT"
      },
      "source": [
        "In order, we have:\n",
        "\n",
        "* An example of `comp.windows.x`, talking about \"host loading considerations\"\n",
        "* An example of `talk.politics.misc`, talking about government and currency\n",
        "* An example of `misc.forsale`, talking about a list of comics for sale\n",
        "* An example of `rec.sport.hockey`, talking about hockey players and the Bruins\n",
        "* An example of `sci.crypt`, talking about a microprocessor\n",
        "\n",
        "We appear to have loaded the data correctly, so let's move on and perform some cleaning and additional exploratory analysis."
      ]
    },
    {
      "cell_type": "markdown",
      "metadata": {
        "id": "bj2DsAz-FcKU"
      },
      "source": [
        "## 2. Perform Data Cleaning and Exploratory Data Analysis with `nltk`\n",
        "\n",
        "Prior to any exploratory analysis, we'll complete two common data cleaning tasks for text data: standardizing case and tokenizing.\n",
        "\n",
        "### Standardizing Case\n",
        "\n",
        "In an NLP modeling process, sometimes we will want to preserve the original case of words (i.e. to treat `\"It\"` and `\"it\"` as different words, and sometimes we will want to standardize case (i.e. to treat `\"It\"` and `\"it\"` as the same word).\n",
        "\n",
        "To figure out what we want to do, let's look at the first sample from above:"
      ]
    },
    {
      "cell_type": "code",
      "execution_count": 7,
      "metadata": {
        "colab": {
          "base_uri": "https://localhost:8080/",
          "height": 36
        },
        "id": "gKprEYV1FcKV",
        "outputId": "5e26ebff-ac58-4fa1-acf7-44a96e7614ff"
      },
      "outputs": [
        {
          "output_type": "execute_result",
          "data": {
            "text/plain": [
              "'\\n\\n\\n   Ncd has an excellent document titled \"Host Loading Considerations in the X \\n  environment\". I received my copy by emailing support@ncd.com. This may\\n  help out.'"
            ],
            "application/vnd.google.colaboratory.intrinsic+json": {
              "type": "string"
            }
          },
          "metadata": {},
          "execution_count": 7
        }
      ],
      "source": [
        "# Run this cell without changes\n",
        "windows_sample = train_sample.iloc[0][\"text\"]\n",
        "windows_sample"
      ]
    },
    {
      "cell_type": "markdown",
      "metadata": {
        "id": "VZhHzFsOFcKW"
      },
      "source": [
        "Here we have two references to the company Network Computing Devices, or NCD. At the beginning, the poster refers to it as `\"Ncd\"`. Then later refers to `\"support@ncd.com\"`. It seems reasonable to assume that both of these should be treated as references to the same word instead of treating `\"Ncd\"` and `\"ncd\"` as two totally separate things. So let's standardize the case of all letters in this dataset.\n",
        "\n",
        "The typical way to standardize case is to make everything lowercase. While it's possible to do this after tokenizing, it's easier and faster to do it first.\n",
        "\n",
        "For a single sample, we can just use the built-in Python `.lower()` method:"
      ]
    },
    {
      "cell_type": "code",
      "execution_count": 8,
      "metadata": {
        "colab": {
          "base_uri": "https://localhost:8080/",
          "height": 36
        },
        "id": "MIoNVb87FcKX",
        "outputId": "e34eca07-8ea1-4d59-b9cf-07c0e49026e6"
      },
      "outputs": [
        {
          "output_type": "execute_result",
          "data": {
            "text/plain": [
              "'\\n\\n\\n   ncd has an excellent document titled \"host loading considerations in the x \\n  environment\". i received my copy by emailing support@ncd.com. this may\\n  help out.'"
            ],
            "application/vnd.google.colaboratory.intrinsic+json": {
              "type": "string"
            }
          },
          "metadata": {},
          "execution_count": 8
        }
      ],
      "source": [
        "# Run this cell without changes\n",
        "windows_sample.lower()"
      ]
    },
    {
      "cell_type": "markdown",
      "metadata": {
        "id": "qKEO5AG-FcKX"
      },
      "source": [
        "#### Standarizing Case in the Full Dataset\n",
        "\n",
        "To access this method in pandas, you use `.str.lower()`:"
      ]
    },
    {
      "cell_type": "code",
      "execution_count": 9,
      "metadata": {
        "colab": {
          "base_uri": "https://localhost:8080/",
          "height": 293
        },
        "id": "cZJgJgChFcKY",
        "outputId": "c19fc17a-8c1b-4c29-caa2-67371759a7b0"
      },
      "outputs": [
        {
          "output_type": "execute_result",
          "data": {
            "text/plain": [
              "<pandas.io.formats.style.Styler at 0x7f7677950ca0>"
            ],
            "text/html": [
              "<style type=\"text/css\">\n",
              "#T_525fe_row0_col0, #T_525fe_row0_col1, #T_525fe_row1_col0, #T_525fe_row1_col1, #T_525fe_row2_col0, #T_525fe_row2_col1, #T_525fe_row3_col0, #T_525fe_row3_col1, #T_525fe_row4_col0, #T_525fe_row4_col1 {\n",
              "  text-align: left;\n",
              "}\n",
              "</style>\n",
              "<table id=\"T_525fe\" class=\"dataframe\">\n",
              "  <thead>\n",
              "    <tr>\n",
              "      <th class=\"blank level0\" >&nbsp;</th>\n",
              "      <th id=\"T_525fe_level0_col0\" class=\"col_heading level0 col0\" >text</th>\n",
              "      <th id=\"T_525fe_level0_col1\" class=\"col_heading level0 col1\" >label</th>\n",
              "    </tr>\n",
              "  </thead>\n",
              "  <tbody>\n",
              "    <tr>\n",
              "      <th id=\"T_525fe_level0_row0\" class=\"row_heading level0 row0\" >1300</th>\n",
              "      <td id=\"T_525fe_row0_col0\" class=\"data row0 col0\" >\n",
              "\n",
              "\n",
              "   ncd has an excellent document titled \"host loading considerations in the x \n",
              "  environment\". i received my copy by emailing support@ncd.com. this may\n",
              "  help out.</td>\n",
              "      <td id=\"T_525fe_row0_col1\" class=\"data row0 col1\" >0</td>\n",
              "    </tr>\n",
              "    <tr>\n",
              "      <th id=\"T_525fe_level0_row1\" class=\"row_heading level0 row1\" >1758</th>\n",
              "      <td id=\"T_525fe_row1_col0\" class=\"data row1 col0\" >\n",
              "\n",
              " \n",
              "           you don't have to.  *it*  believes in you.\n",
              "\n",
              "\n",
              "\n",
              "\n",
              "        well, looking at our new government pals, i'm inclined to\n",
              "        agree.  i don't much believe in our money, either. :)\n",
              "\n",
              "\n",
              "\n",
              "\n",
              "    oh, ho ho!   if only you knew!  :)\n",
              "\n",
              "    yup, i'm definitely checking out foreign currency, thanks to\n",
              "    to this newsgroup.  it sure doesn't take much thinking to realize\n",
              "    what direction the u.s. is headed.\n",
              "\n",
              "\n",
              "</td>\n",
              "      <td id=\"T_525fe_row1_col1\" class=\"data row1 col1\" >4</td>\n",
              "    </tr>\n",
              "    <tr>\n",
              "      <th id=\"T_525fe_level0_row2\" class=\"row_heading level0 row2\" >2558</th>\n",
              "      <td id=\"T_525fe_row2_col0\" class=\"data row2 col0\" >miscellaneous comics for sale. i really would like\n",
              "to get rid of these for lack of space. buyer pays\n",
              "shipping, and all offers considered. oh, and the\n",
              "first purchase over $20 in any of my posts\n",
              "gets a free maxx #1/2 coupon, or a trashed copy\n",
              "of amazing spidey #300. here goes...\n",
              "\n",
              "\n",
              "deathlok         #1           $3.00\n",
              "                 2-17         $1.75 each\n",
              "                 annual #1     2.50\n",
              "                 special #1    2.00\n",
              "\n",
              "sleepwalker      1,2,6,8,9,13  7.00 (set) or 1.25\n",
              "                                             each\n",
              "\n",
              "\n",
              "next men         #1           $3.00\n",
              "ray              #1            1.00\n",
              "deathstroke      5,6           1.75 each\n",
              "darkhawk         13            1.25\n",
              "new warrior's    18            1.00\n",
              "fantasti four    358           2.50\n",
              "moon knight      35,36         1.75 each\n",
              "hulk             386-388       1.50 each\n",
              "\n",
              "punisher w.z.    1             2.50\n",
              "cage             1             1.50\n",
              "x-force          1             2.00\n",
              "silver sable     1             2.00\n",
              "x-calibur        26,27,48,49   1.50 each\n",
              "\n",
              "\n",
              "hearts of darkness             5.00\n",
              "infinity guantlet     1-4      2.50 each\n",
              "batman v. pred.       1,3      2.00 each\n",
              " \"   \"  \"  (deluxe)   1        5.00\n",
              "\n",
              "guardians of the\n",
              "galaxy                1       3.00\n",
              "spider-man 2099       1-3     5.00 (set)\n",
              "spec. spider-man      189     3.00 (special hologram)\n",
              "\n",
              "let me know if you'd like to buy anything. my\n",
              "address is u38134@uicvm.uic.edu</td>\n",
              "      <td id=\"T_525fe_row2_col1\" class=\"data row2 col1\" >1</td>\n",
              "    </tr>\n",
              "    <tr>\n",
              "      <th id=\"T_525fe_level0_row3\" class=\"row_heading level0 row3\" >2267</th>\n",
              "      <td id=\"T_525fe_row3_col0\" class=\"data row3 col0\" >\n",
              "\n",
              "my vote goes to andy moog 1st, belfour 2nd, vanbiesbrouck 3rd\n",
              "\n",
              "the bruin's are hot at just the right time !!!!!\n",
              "\n",
              "\n",
              "rich beskosty</td>\n",
              "      <td id=\"T_525fe_row3_col1\" class=\"data row3 col1\" >2</td>\n",
              "    </tr>\n",
              "    <tr>\n",
              "      <th id=\"T_525fe_level0_row4\" class=\"row_heading level0 row4\" >1043</th>\n",
              "      <td id=\"T_525fe_row4_col0\" class=\"data row4 col0\" >\n",
              "\n",
              "yes, \"clipper\" is a trademark of intergraph.  its the risc chip used\n",
              "in some of thier workstations. \n",
              "\n",
              "i wonder what intergraph is going to do to this infringement on thier\n",
              "name sake?\n",
              "</td>\n",
              "      <td id=\"T_525fe_row4_col1\" class=\"data row4 col1\" >3</td>\n",
              "    </tr>\n",
              "  </tbody>\n",
              "</table>\n"
            ]
          },
          "metadata": {},
          "execution_count": 9
        }
      ],
      "source": [
        "# Run this cell without changes\n",
        "\n",
        "# Transform sample data to lowercase\n",
        "train_sample[\"text\"] = train_sample[\"text\"].str.lower()\n",
        "# Display full text\n",
        "train_sample.style.set_properties(**{'text-align': 'left'})"
      ]
    },
    {
      "cell_type": "markdown",
      "metadata": {
        "id": "MwvvVPZyFcKZ"
      },
      "source": [
        "In the cell below, perform the same operation on the full `X_train`:"
      ]
    },
    {
      "cell_type": "code",
      "execution_count": 10,
      "metadata": {
        "id": "BAfaMG0pFcKa"
      },
      "outputs": [],
      "source": [
        "# Replace None with appropriate code\n",
        "\n",
        "# Transform text in X_train to lowercase\n",
        "X_train[\"text\"] = X_train[\"text\"].str.lower()"
      ]
    },
    {
      "cell_type": "markdown",
      "metadata": {
        "id": "yj6x1IYhFcKb"
      },
      "source": [
        "Double-check your work by looking at an example and making sure the text is lowercase:"
      ]
    },
    {
      "cell_type": "code",
      "execution_count": 11,
      "metadata": {
        "colab": {
          "base_uri": "https://localhost:8080/",
          "height": 88
        },
        "id": "RsbztrkLFcKb",
        "outputId": "cd2525df-cf80-4973-9fd3-50fb37d433ca"
      },
      "outputs": [
        {
          "output_type": "execute_result",
          "data": {
            "text/plain": [
              "\"i have a problem where an athena strip chart widget is not calling it's\\nget value function.  i am pretty sure this is happening because i am\\nnot using xtappmainloop, but am dealing with events via sockets.  (ya ya).\\n\\nanyway, i want to cause a timeout so that the strip chart widget(s) will\\ncall their get value callback.  or if someone knows another fast way around\\nthis (or any way for that matter) let me know.  i cannot (or i don't think)\\ncall the xtngetvalue callback myself because i don't have the value for\\nthe third parameter of the get value proc (xtpointer call_data).  \\n\\nin other words, i want to force a strip chart widget to update itself.\\n\\nany ideas anyone?  \\n\""
            ],
            "application/vnd.google.colaboratory.intrinsic+json": {
              "type": "string"
            }
          },
          "metadata": {},
          "execution_count": 11
        }
      ],
      "source": [
        "# Run this cell without changes\n",
        "X_train.iloc[100][\"text\"]"
      ]
    },
    {
      "cell_type": "markdown",
      "metadata": {
        "id": "ov21icILFcKc"
      },
      "source": [
        "### Tokenizing\n",
        "\n",
        "Now that the case is consistent it's time to convert each document from a single long string into a set of tokens.\n",
        "\n",
        "Let's look more closely at the second example from our training data sample:"
      ]
    },
    {
      "cell_type": "code",
      "execution_count": 12,
      "metadata": {
        "colab": {
          "base_uri": "https://localhost:8080/",
          "height": 71
        },
        "id": "y6j8OPNgFcKd",
        "outputId": "96b3c61d-0ea0-48d3-df70-3428c11ddfb7"
      },
      "outputs": [
        {
          "output_type": "execute_result",
          "data": {
            "text/plain": [
              "\"\\n\\n \\n           you don't have to.  *it*  believes in you.\\n\\n\\n\\n\\n        well, looking at our new government pals, i'm inclined to\\n        agree.  i don't much believe in our money, either. :)\\n\\n\\n\\n\\n    oh, ho ho!   if only you knew!  :)\\n\\n    yup, i'm definitely checking out foreign currency, thanks to\\n    to this newsgroup.  it sure doesn't take much thinking to realize\\n    what direction the u.s. is headed.\\n\\n\\n\""
            ],
            "application/vnd.google.colaboratory.intrinsic+json": {
              "type": "string"
            }
          },
          "metadata": {},
          "execution_count": 12
        }
      ],
      "source": [
        "# Run this cell without changes\n",
        "politics_sample = train_sample.iloc[1][\"text\"]\n",
        "politics_sample"
      ]
    },
    {
      "cell_type": "markdown",
      "metadata": {
        "id": "2fHopIWCFcKe"
      },
      "source": [
        "If we split this into tokens just by using the built-in Python `.split` string method, we would have a lot of punctuation attached:"
      ]
    },
    {
      "cell_type": "code",
      "execution_count": 13,
      "metadata": {
        "colab": {
          "base_uri": "https://localhost:8080/"
        },
        "id": "EkePByD7FcKe",
        "outputId": "07c70f01-784a-4cb8-d966-967e7c8d0d57"
      },
      "outputs": [
        {
          "output_type": "execute_result",
          "data": {
            "text/plain": [
              "['you',\n",
              " \"don't\",\n",
              " 'have',\n",
              " 'to.',\n",
              " '*it*',\n",
              " 'believes',\n",
              " 'in',\n",
              " 'you.',\n",
              " 'well,',\n",
              " 'looking']"
            ]
          },
          "metadata": {},
          "execution_count": 13
        }
      ],
      "source": [
        "# Run this cell without changes\n",
        "politics_sample.split()[:10]"
      ]
    },
    {
      "cell_type": "markdown",
      "metadata": {
        "id": "44PMbsziFcKf"
      },
      "source": [
        "(Punctuation being attached to words is a problem because we probably want to treat `you` and `you.` as two instances of the same token, not two different tokens.)\n",
        "\n",
        "Let's use the default token pattern that scikit-learn uses in its vectorizers. The RegEx looks like this:\n",
        "\n",
        "```\n",
        "(?u)\\b\\w\\w+\\b\n",
        "```\n",
        "\n",
        "That means:\n",
        "\n",
        "1. `(?u)`: use full unicode string matching\n",
        "2. `\\b`: find a word boundary (a word boundary has length 0, and represents the location between non-word characters and word characters)\n",
        "3. `\\w\\w+`: find 2 or more word characters (all letters, numbers, and underscores are word characters)\n",
        "4. `\\b`: find another word boundary\n",
        "\n",
        "In other words, we are looking for tokens that consist of two or more consecutive word characters, which include letters, numbers, and underscores.\n",
        "\n",
        "We'll use the `RegexpTokenizer` from NLTK to create these tokens, initially just transforming the politics sample:"
      ]
    },
    {
      "cell_type": "code",
      "execution_count": 14,
      "metadata": {
        "colab": {
          "base_uri": "https://localhost:8080/"
        },
        "id": "FGZayJsyFcKg",
        "outputId": "8ba820ba-79ce-4b44-b047-250e6f569922"
      },
      "outputs": [
        {
          "output_type": "execute_result",
          "data": {
            "text/plain": [
              "['you', 'don', 'have', 'to', 'it', 'believes', 'in', 'you', 'well', 'looking']"
            ]
          },
          "metadata": {},
          "execution_count": 14
        }
      ],
      "source": [
        "# Run this cell without changes\n",
        "\n",
        "from nltk.tokenize import RegexpTokenizer\n",
        "\n",
        "basic_token_pattern = r\"(?u)\\b\\w\\w+\\b\"\n",
        "\n",
        "tokenizer = RegexpTokenizer(basic_token_pattern)\n",
        "tokenizer.tokenize(politics_sample)[:10]"
      ]
    },
    {
      "cell_type": "markdown",
      "metadata": {
        "id": "2Xd0zJuzFcKi"
      },
      "source": [
        "#### Tokenizing the Full Dataset\n",
        "\n",
        "The way to tokenize all values in a column of a pandas dataframe is to use `.apply` and pass in `tokenizer.tokenize`.\n",
        "\n",
        "For example, with the sample dataset:"
      ]
    },
    {
      "cell_type": "code",
      "execution_count": 15,
      "metadata": {
        "colab": {
          "base_uri": "https://localhost:8080/",
          "height": 467
        },
        "id": "cQF-ftZdFcKj",
        "outputId": "a6cac3f6-0075-40c9-dad2-3b0ad8909127"
      },
      "outputs": [
        {
          "output_type": "execute_result",
          "data": {
            "text/plain": [
              "<pandas.io.formats.style.Styler at 0x7f7670c0e160>"
            ],
            "text/html": [
              "<style type=\"text/css\">\n",
              "#T_82bb5_row0_col0, #T_82bb5_row0_col1, #T_82bb5_row0_col2, #T_82bb5_row1_col0, #T_82bb5_row1_col1, #T_82bb5_row1_col2, #T_82bb5_row2_col0, #T_82bb5_row2_col1, #T_82bb5_row2_col2, #T_82bb5_row3_col0, #T_82bb5_row3_col1, #T_82bb5_row3_col2, #T_82bb5_row4_col0, #T_82bb5_row4_col1, #T_82bb5_row4_col2 {\n",
              "  text-align: left;\n",
              "}\n",
              "</style>\n",
              "<table id=\"T_82bb5\" class=\"dataframe\">\n",
              "  <thead>\n",
              "    <tr>\n",
              "      <th class=\"blank level0\" >&nbsp;</th>\n",
              "      <th id=\"T_82bb5_level0_col0\" class=\"col_heading level0 col0\" >text</th>\n",
              "      <th id=\"T_82bb5_level0_col1\" class=\"col_heading level0 col1\" >label</th>\n",
              "      <th id=\"T_82bb5_level0_col2\" class=\"col_heading level0 col2\" >text_tokenized</th>\n",
              "    </tr>\n",
              "  </thead>\n",
              "  <tbody>\n",
              "    <tr>\n",
              "      <th id=\"T_82bb5_level0_row0\" class=\"row_heading level0 row0\" >1300</th>\n",
              "      <td id=\"T_82bb5_row0_col0\" class=\"data row0 col0\" >\n",
              "\n",
              "\n",
              "   ncd has an excellent document titled \"host loading considerations in the x \n",
              "  environment\". i received my copy by emailing support@ncd.com. this may\n",
              "  help out.</td>\n",
              "      <td id=\"T_82bb5_row0_col1\" class=\"data row0 col1\" >0</td>\n",
              "      <td id=\"T_82bb5_row0_col2\" class=\"data row0 col2\" >['ncd', 'has', 'an', 'excellent', 'document', 'titled', 'host', 'loading', 'considerations', 'in', 'the', 'environment', 'received', 'my', 'copy', 'by', 'emailing', 'support', 'ncd', 'com', 'this', 'may', 'help', 'out']</td>\n",
              "    </tr>\n",
              "    <tr>\n",
              "      <th id=\"T_82bb5_level0_row1\" class=\"row_heading level0 row1\" >1758</th>\n",
              "      <td id=\"T_82bb5_row1_col0\" class=\"data row1 col0\" >\n",
              "\n",
              " \n",
              "           you don't have to.  *it*  believes in you.\n",
              "\n",
              "\n",
              "\n",
              "\n",
              "        well, looking at our new government pals, i'm inclined to\n",
              "        agree.  i don't much believe in our money, either. :)\n",
              "\n",
              "\n",
              "\n",
              "\n",
              "    oh, ho ho!   if only you knew!  :)\n",
              "\n",
              "    yup, i'm definitely checking out foreign currency, thanks to\n",
              "    to this newsgroup.  it sure doesn't take much thinking to realize\n",
              "    what direction the u.s. is headed.\n",
              "\n",
              "\n",
              "</td>\n",
              "      <td id=\"T_82bb5_row1_col1\" class=\"data row1 col1\" >4</td>\n",
              "      <td id=\"T_82bb5_row1_col2\" class=\"data row1 col2\" >['you', 'don', 'have', 'to', 'it', 'believes', 'in', 'you', 'well', 'looking', 'at', 'our', 'new', 'government', 'pals', 'inclined', 'to', 'agree', 'don', 'much', 'believe', 'in', 'our', 'money', 'either', 'oh', 'ho', 'ho', 'if', 'only', 'you', 'knew', 'yup', 'definitely', 'checking', 'out', 'foreign', 'currency', 'thanks', 'to', 'to', 'this', 'newsgroup', 'it', 'sure', 'doesn', 'take', 'much', 'thinking', 'to', 'realize', 'what', 'direction', 'the', 'is', 'headed']</td>\n",
              "    </tr>\n",
              "    <tr>\n",
              "      <th id=\"T_82bb5_level0_row2\" class=\"row_heading level0 row2\" >2558</th>\n",
              "      <td id=\"T_82bb5_row2_col0\" class=\"data row2 col0\" >miscellaneous comics for sale. i really would like\n",
              "to get rid of these for lack of space. buyer pays\n",
              "shipping, and all offers considered. oh, and the\n",
              "first purchase over $20 in any of my posts\n",
              "gets a free maxx #1/2 coupon, or a trashed copy\n",
              "of amazing spidey #300. here goes...\n",
              "\n",
              "\n",
              "deathlok         #1           $3.00\n",
              "                 2-17         $1.75 each\n",
              "                 annual #1     2.50\n",
              "                 special #1    2.00\n",
              "\n",
              "sleepwalker      1,2,6,8,9,13  7.00 (set) or 1.25\n",
              "                                             each\n",
              "\n",
              "\n",
              "next men         #1           $3.00\n",
              "ray              #1            1.00\n",
              "deathstroke      5,6           1.75 each\n",
              "darkhawk         13            1.25\n",
              "new warrior's    18            1.00\n",
              "fantasti four    358           2.50\n",
              "moon knight      35,36         1.75 each\n",
              "hulk             386-388       1.50 each\n",
              "\n",
              "punisher w.z.    1             2.50\n",
              "cage             1             1.50\n",
              "x-force          1             2.00\n",
              "silver sable     1             2.00\n",
              "x-calibur        26,27,48,49   1.50 each\n",
              "\n",
              "\n",
              "hearts of darkness             5.00\n",
              "infinity guantlet     1-4      2.50 each\n",
              "batman v. pred.       1,3      2.00 each\n",
              " \"   \"  \"  (deluxe)   1        5.00\n",
              "\n",
              "guardians of the\n",
              "galaxy                1       3.00\n",
              "spider-man 2099       1-3     5.00 (set)\n",
              "spec. spider-man      189     3.00 (special hologram)\n",
              "\n",
              "let me know if you'd like to buy anything. my\n",
              "address is u38134@uicvm.uic.edu</td>\n",
              "      <td id=\"T_82bb5_row2_col1\" class=\"data row2 col1\" >1</td>\n",
              "      <td id=\"T_82bb5_row2_col2\" class=\"data row2 col2\" >['miscellaneous', 'comics', 'for', 'sale', 'really', 'would', 'like', 'to', 'get', 'rid', 'of', 'these', 'for', 'lack', 'of', 'space', 'buyer', 'pays', 'shipping', 'and', 'all', 'offers', 'considered', 'oh', 'and', 'the', 'first', 'purchase', 'over', '20', 'in', 'any', 'of', 'my', 'posts', 'gets', 'free', 'maxx', 'coupon', 'or', 'trashed', 'copy', 'of', 'amazing', 'spidey', '300', 'here', 'goes', 'deathlok', '00', '17', '75', 'each', 'annual', '50', 'special', '00', 'sleepwalker', '13', '00', 'set', 'or', '25', 'each', 'next', 'men', '00', 'ray', '00', 'deathstroke', '75', 'each', 'darkhawk', '13', '25', 'new', 'warrior', '18', '00', 'fantasti', 'four', '358', '50', 'moon', 'knight', '35', '36', '75', 'each', 'hulk', '386', '388', '50', 'each', 'punisher', '50', 'cage', '50', 'force', '00', 'silver', 'sable', '00', 'calibur', '26', '27', '48', '49', '50', 'each', 'hearts', 'of', 'darkness', '00', 'infinity', 'guantlet', '50', 'each', 'batman', 'pred', '00', 'each', 'deluxe', '00', 'guardians', 'of', 'the', 'galaxy', '00', 'spider', 'man', '2099', '00', 'set', 'spec', 'spider', 'man', '189', '00', 'special', 'hologram', 'let', 'me', 'know', 'if', 'you', 'like', 'to', 'buy', 'anything', 'my', 'address', 'is', 'u38134', 'uicvm', 'uic', 'edu']</td>\n",
              "    </tr>\n",
              "    <tr>\n",
              "      <th id=\"T_82bb5_level0_row3\" class=\"row_heading level0 row3\" >2267</th>\n",
              "      <td id=\"T_82bb5_row3_col0\" class=\"data row3 col0\" >\n",
              "\n",
              "my vote goes to andy moog 1st, belfour 2nd, vanbiesbrouck 3rd\n",
              "\n",
              "the bruin's are hot at just the right time !!!!!\n",
              "\n",
              "\n",
              "rich beskosty</td>\n",
              "      <td id=\"T_82bb5_row3_col1\" class=\"data row3 col1\" >2</td>\n",
              "      <td id=\"T_82bb5_row3_col2\" class=\"data row3 col2\" >['my', 'vote', 'goes', 'to', 'andy', 'moog', '1st', 'belfour', '2nd', 'vanbiesbrouck', '3rd', 'the', 'bruin', 'are', 'hot', 'at', 'just', 'the', 'right', 'time', 'rich', 'beskosty']</td>\n",
              "    </tr>\n",
              "    <tr>\n",
              "      <th id=\"T_82bb5_level0_row4\" class=\"row_heading level0 row4\" >1043</th>\n",
              "      <td id=\"T_82bb5_row4_col0\" class=\"data row4 col0\" >\n",
              "\n",
              "yes, \"clipper\" is a trademark of intergraph.  its the risc chip used\n",
              "in some of thier workstations. \n",
              "\n",
              "i wonder what intergraph is going to do to this infringement on thier\n",
              "name sake?\n",
              "</td>\n",
              "      <td id=\"T_82bb5_row4_col1\" class=\"data row4 col1\" >3</td>\n",
              "      <td id=\"T_82bb5_row4_col2\" class=\"data row4 col2\" >['yes', 'clipper', 'is', 'trademark', 'of', 'intergraph', 'its', 'the', 'risc', 'chip', 'used', 'in', 'some', 'of', 'thier', 'workstations', 'wonder', 'what', 'intergraph', 'is', 'going', 'to', 'do', 'to', 'this', 'infringement', 'on', 'thier', 'name', 'sake']</td>\n",
              "    </tr>\n",
              "  </tbody>\n",
              "</table>\n"
            ]
          },
          "metadata": {},
          "execution_count": 15
        }
      ],
      "source": [
        "# Run this cell without changes\n",
        "\n",
        "# Create new column with tokenized data\n",
        "train_sample[\"text_tokenized\"] = train_sample[\"text\"].apply(tokenizer.tokenize)\n",
        "# Display full text\n",
        "train_sample.style.set_properties(**{'text-align': 'left'})"
      ]
    },
    {
      "cell_type": "markdown",
      "metadata": {
        "id": "NuU45nB1FcKl"
      },
      "source": [
        "In the cell below, apply the same operation on `X_train`:"
      ]
    },
    {
      "cell_type": "code",
      "execution_count": 16,
      "metadata": {
        "id": "4ftYzoSwFcKm"
      },
      "outputs": [],
      "source": [
        "# Replace None with appropriate code\n",
        "\n",
        "# Create column text_tokenized on X_train\n",
        "X_train[\"text_tokenized\"] = X_train[\"text\"].apply(tokenizer.tokenize)"
      ]
    },
    {
      "cell_type": "markdown",
      "metadata": {
        "id": "NXFSKOgEFcKn"
      },
      "source": [
        "Visually inspect your work below:"
      ]
    },
    {
      "cell_type": "code",
      "execution_count": 17,
      "metadata": {
        "colab": {
          "base_uri": "https://localhost:8080/"
        },
        "id": "JaBxEAkcFcKo",
        "outputId": "dc12a423-2dc2-4cc7-ffee-b889b950ebfe"
      },
      "outputs": [
        {
          "output_type": "execute_result",
          "data": {
            "text/plain": [
              "['have',\n",
              " 'problem',\n",
              " 'where',\n",
              " 'an',\n",
              " 'athena',\n",
              " 'strip',\n",
              " 'chart',\n",
              " 'widget',\n",
              " 'is',\n",
              " 'not',\n",
              " 'calling',\n",
              " 'it',\n",
              " 'get',\n",
              " 'value',\n",
              " 'function',\n",
              " 'am',\n",
              " 'pretty',\n",
              " 'sure',\n",
              " 'this',\n",
              " 'is']"
            ]
          },
          "metadata": {},
          "execution_count": 17
        }
      ],
      "source": [
        "# Run this cell without changes\n",
        "X_train.iloc[100][\"text_tokenized\"][:20]"
      ]
    },
    {
      "cell_type": "markdown",
      "metadata": {
        "id": "x-Ln1njTFcKp"
      },
      "source": [
        "(Note that we have removed all single-letter words, so instead of `\"have\", \"a\", \"problem\"`, the sample now shows just `\"have\", \"problem\"`. If we wanted to include single-letter words, we could use the token pattern `(?u)\\b\\w+\\b` instead.)\n",
        "\n",
        "Now that our data is cleaned up (case standardized and tokenized), we can perform some EDA."
      ]
    },
    {
      "cell_type": "markdown",
      "metadata": {
        "id": "XOshg5IkFcKq"
      },
      "source": [
        "### Exploratory Data Analysis: Frequency Distributions\n",
        "\n",
        "Recall that a frequency distribution is a data structure that contains pieces of data as well as the count of how frequently they appear. In this case, the pieces of data we'll be looking at are tokens (words).\n",
        "\n",
        "In the past we have built a frequency distribution \"by hand\" using built-in Python data structures. Here we'll use another handy tool from NLTK called `FreqDist` ([documentation here](http://www.nltk.org/api/nltk.html?highlight=freqdist#nltk.probability.FreqDist)). `FreqDist` allows us to pass in a single list of words, and it produces a dictionary-like output of those words and their frequencies.\n",
        "\n",
        "For example, this creates a frequency distribution of the example shown above:"
      ]
    },
    {
      "cell_type": "code",
      "execution_count": 18,
      "metadata": {
        "colab": {
          "base_uri": "https://localhost:8080/"
        },
        "id": "VjtGFg1OFcKr",
        "outputId": "9381535e-a134-480b-b348-0679fe02515b"
      },
      "outputs": [
        {
          "output_type": "execute_result",
          "data": {
            "text/plain": [
              "FreqDist({'is': 2, 'have': 1, 'problem': 1, 'where': 1, 'an': 1, 'athena': 1, 'strip': 1, 'chart': 1, 'widget': 1, 'not': 1, ...})"
            ]
          },
          "metadata": {},
          "execution_count": 18
        }
      ],
      "source": [
        "# Run this cell without changes\n",
        "from nltk import FreqDist\n",
        "\n",
        "example_freq_dist = FreqDist(X_train.iloc[100][\"text_tokenized\"][:20])\n",
        "example_freq_dist"
      ]
    },
    {
      "cell_type": "markdown",
      "metadata": {
        "id": "vh1Tai6FFcKs"
      },
      "source": [
        "Then can use Matplotlib to visualize the most common words:"
      ]
    },
    {
      "cell_type": "code",
      "execution_count": 19,
      "metadata": {
        "colab": {
          "base_uri": "https://localhost:8080/",
          "height": 312
        },
        "id": "zuw1VUpSFcKt",
        "outputId": "903329d0-2253-4cd3-9440-0917fe8c85d2"
      },
      "outputs": [
        {
          "output_type": "display_data",
          "data": {
            "text/plain": [
              "<Figure size 432x288 with 1 Axes>"
            ],
            "image/png": "[encoded data removed]"
          },
          "metadata": {
            "needs_background": "light"
          }
        }
      ],
      "source": [
        "# Run this cell without changes\n",
        "import matplotlib.pyplot as plt\n",
        "from matplotlib.ticker import MaxNLocator\n",
        "\n",
        "def visualize_top_10(freq_dist, title):\n",
        "\n",
        "    # Extract data for plotting\n",
        "    top_10 = list(zip(*freq_dist.most_common(10)))\n",
        "    tokens = top_10[0]\n",
        "    counts = top_10[1]\n",
        "\n",
        "    # Set up plot and plot data\n",
        "    fig, ax = plt.subplots()\n",
        "    ax.bar(tokens, counts)\n",
        "\n",
        "    # Customize plot appearance\n",
        "    ax.set_title(title)\n",
        "    ax.set_ylabel(\"Count\")\n",
        "    ax.yaxis.set_major_locator(MaxNLocator(integer=True))\n",
        "    ax.tick_params(axis=\"x\", rotation=90)\n",
        "    \n",
        "visualize_top_10(example_freq_dist, \"Top 10 Word Frequency for Example Tokens\")"
      ]
    },
    {
      "cell_type": "markdown",
      "metadata": {
        "id": "AgFJ89XhFcKv"
      },
      "source": [
        "Interpreting the chart above is a bit artificial, since this sample only included 20 tokens. But essentially this is saying that the token with the highest frequency in our example is `\"is\"`, which occurred twice."
      ]
    },
    {
      "cell_type": "markdown",
      "metadata": {
        "id": "NGCAWs8cFcKw"
      },
      "source": [
        "#### Visualizing the Frequency Distribution for the Full Dataset\n",
        "\n",
        "Let's do that for the full `X_train`.\n",
        "\n",
        "First, we need a list of all of the words in the `text_tokenized` column. We could do this manually by looping over the rows, but fortunately pandas has a handy method called `.explode()` ([documentation here](https://pandas.pydata.org/pandas-docs/stable/reference/api/pandas.Series.explode.html#pandas.Series.explode)) that does exactly this.\n",
        "\n",
        "Here is an example applying that to the sample dataframe:"
      ]
    },
    {
      "cell_type": "code",
      "execution_count": 20,
      "metadata": {
        "colab": {
          "base_uri": "https://localhost:8080/"
        },
        "id": "vn6IVwKpFcKx",
        "outputId": "073a3b74-ddff-4b40-b574-7e4f3f081ac9"
      },
      "outputs": [
        {
          "output_type": "execute_result",
          "data": {
            "text/plain": [
              "1300             ncd\n",
              "1300             has\n",
              "1300              an\n",
              "1300       excellent\n",
              "1300        document\n",
              "            ...     \n",
              "1043    infringement\n",
              "1043              on\n",
              "1043           thier\n",
              "1043            name\n",
              "1043            sake\n",
              "Name: text_tokenized, Length: 289, dtype: object"
            ]
          },
          "metadata": {},
          "execution_count": 20
        }
      ],
      "source": [
        "# Run this cell without changes\n",
        "train_sample[\"text_tokenized\"].explode()"
      ]
    },
    {
      "cell_type": "markdown",
      "metadata": {
        "id": "ovXhmOLiFcKy"
      },
      "source": [
        "And we can visualize the top 10 words from the sample dataframe like this:"
      ]
    },
    {
      "cell_type": "code",
      "execution_count": 21,
      "metadata": {
        "colab": {
          "base_uri": "https://localhost:8080/",
          "height": 295
        },
        "id": "fnMrCTNnFcKz",
        "outputId": "fd48e695-8cbe-4574-ec37-8b6490100e03"
      },
      "outputs": [
        {
          "output_type": "display_data",
          "data": {
            "text/plain": [
              "<Figure size 432x288 with 1 Axes>"
            ],
            "image/png": "[encoded data removed]"
          },
          "metadata": {
            "needs_background": "light"
          }
        }
      ],
      "source": [
        "# Run this cell without changes\n",
        "sample_freq_dist = FreqDist(train_sample[\"text_tokenized\"].explode())\n",
        "visualize_top_10(sample_freq_dist, \"Top 10 Word Frequency for 5 Samples\")"
      ]
    },
    {
      "cell_type": "markdown",
      "metadata": {
        "id": "wXD_vjmhFcK0"
      },
      "source": [
        "Note that `\"00\"` and `\"50\"` are both in the top 10 tokens, due to many prices appearing in the `misc.forsale` example.\n",
        "\n",
        "In the cell below, complete the same process for the full `X_train`:"
      ]
    },
    {
      "cell_type": "code",
      "execution_count": 22,
      "metadata": {
        "colab": {
          "base_uri": "https://localhost:8080/",
          "height": 292
        },
        "id": "VOus9DGKFcK1",
        "outputId": "5436f96b-75f5-48f4-fd0f-abe1210b2622"
      },
      "outputs": [
        {
          "output_type": "display_data",
          "data": {
            "text/plain": [
              "<Figure size 432x288 with 1 Axes>"
            ],
            "image/png": "[encoded data removed]"
          },
          "metadata": {
            "needs_background": "light"
          }
        }
      ],
      "source": [
        "# Replace None with appropriate code\n",
        "\n",
        "# Create a frequency distribution for X_train\n",
        "train_freq_dist = FreqDist(X_train[\"text_tokenized\"].explode())\n",
        "\n",
        "# Plot the top 10 tokens\n",
        "visualize_top_10(train_freq_dist, \"Top 10 Word Frequency for Full X_train\")"
      ]
    },
    {
      "cell_type": "markdown",
      "metadata": {
        "id": "dlZt9HcFFcK3"
      },
      "source": [
        "Ok great, we have a general sense of the word frequencies in our dataset!\n",
        "\n",
        "We can also subdivide this by category, to see if it makes a difference:"
      ]
    },
    {
      "cell_type": "code",
      "execution_count": 23,
      "metadata": {
        "colab": {
          "base_uri": "https://localhost:8080/",
          "height": 655
        },
        "id": "t6Wt9Wv9FcK3",
        "outputId": "3848bca1-acea-445b-ec62-1ba6603e6b3b"
      },
      "outputs": [
        {
          "output_type": "display_data",
          "data": {
            "text/plain": [
              "<Figure size 1080x648 with 5 Axes>"
            ],
            "image/png": "[encoded data removed]"
          },
          "metadata": {
            "needs_background": "light"
          }
        }
      ],
      "source": [
        "# Run this cell without changes\n",
        "\n",
        "# Add in labels for filtering (we won't pass them in to the model)\n",
        "X_train[\"label\"] = [y_train[val] for val in X_train.index]\n",
        "\n",
        "def setup_five_subplots():\n",
        "    \"\"\"\n",
        "    It's hard to make an odd number of graphs pretty with just nrows\n",
        "    and ncols, so we make a custom grid. See example for more details:\n",
        "    https://matplotlib.org/stable/gallery/subplots_axes_and_figures/gridspec_multicolumn.html\n",
        "\n",
        "    We want the graphs to look like this:\n",
        "     [ ] [ ] [ ]\n",
        "       [ ] [ ]\n",
        "\n",
        "    So we make a 2x6 grid with 5 graphs arranged on it. 3 in the\n",
        "    top row, 2 in the second row\n",
        "\n",
        "      0 1 2 3 4 5\n",
        "    0|[|]|[|]|[|]|\n",
        "    1| |[|]|[|]| |\n",
        "    \"\"\"\n",
        "    fig = plt.figure(figsize=(15,9))\n",
        "    fig.set_tight_layout(True)\n",
        "    gs = fig.add_gridspec(2, 6)\n",
        "    ax1 = fig.add_subplot(gs[0, :2]) # row 0, cols 0-1\n",
        "    ax2 = fig.add_subplot(gs[0, 2:4])# row 0, cols 2-3\n",
        "    ax3 = fig.add_subplot(gs[0, 4:]) # row 0, cols 4-5\n",
        "    ax4 = fig.add_subplot(gs[1, 1:3])# row 1, cols 1-2\n",
        "    ax5 = fig.add_subplot(gs[1, 3:5])# row 1, cols 3-4\n",
        "    return fig, [ax1, ax2, ax3, ax4, ax5]\n",
        "\n",
        "def plot_distribution_of_column_by_category(column, axes, title=\"Word Frequency for\"):\n",
        "    for index, category in enumerate(newsgroups_train.target_names):\n",
        "        # Calculate frequency distribution for this subset\n",
        "        all_words = X_train[X_train[\"label\"] == index][column].explode()\n",
        "        freq_dist = FreqDist(all_words)\n",
        "        top_10 = list(zip(*freq_dist.most_common(10)))\n",
        "        tokens = top_10[0]\n",
        "        counts = top_10[1]\n",
        "\n",
        "        # Set up plot\n",
        "        ax = axes[index]\n",
        "        ax.bar(tokens, counts)\n",
        "\n",
        "        # Customize plot appearance\n",
        "        ax.set_title(f\"{title} {category}\")\n",
        "        ax.set_ylabel(\"Count\")\n",
        "        ax.yaxis.set_major_locator(MaxNLocator(integer=True))\n",
        "        ax.tick_params(axis=\"x\", rotation=90)\n",
        "\n",
        "\n",
        "fig, axes = setup_five_subplots()\n",
        "plot_distribution_of_column_by_category(\"text_tokenized\", axes)\n",
        "fig.suptitle(\"Word Frequencies for All Tokens\", fontsize=24);"
      ]
    },
    {
      "cell_type": "markdown",
      "metadata": {
        "id": "oUOzQadBFcK5"
      },
      "source": [
        "If these were unlabeled, would you be able to figure out which one matched with which category?\n",
        "\n",
        "Well, `misc.forsale` still has a number (`\"00\"`) as one of its top tokens, so you might be able to figure out that one, but it seems very difficult to distinguish the others; every single category has `\"the\"` as the most common token, and every category except for `misc.forsale` has `\"to\"` as the second most common token. \n",
        "\n",
        "After building our baseline model, we'll use this information to inform our next preprocessing steps."
      ]
    },
    {
      "cell_type": "markdown",
      "metadata": {
        "id": "2lxDcEDCFcK6"
      },
      "source": [
        "## 3. Build and Evaluate a Baseline Model with `TfidfVectorizer` and `MultinomialNB`\n",
        "\n",
        "Let's start modeling by building a model that basically only has access to the information in the plots above. So, using the default token pattern to split the full text into tokens, and using a limited vocabulary.\n",
        "\n",
        "To give the model a little bit more information with those same features, we'll use a `TfidfVectorizer` ([documentation here](https://scikit-learn.org/stable/modules/generated/sklearn.feature_extraction.text.TfidfVectorizer.html)) so that it counts not only the term frequency (`tf`) within a single document, it also includes the inverse document frequency (`idf`) — how rare the term is.\n",
        "\n",
        "In the cell below, import the vectorizer, instantiate a vectorizer object, and fit it on `X_train[\"text\"]`."
      ]
    },
    {
      "cell_type": "code",
      "execution_count": 28,
      "metadata": {
        "colab": {
          "base_uri": "https://localhost:8080/",
          "height": 200
        },
        "id": "a3BsKBucFcK7",
        "outputId": "18145cbc-c28b-4ba0-8389-0ffcacb4393b"
      },
      "outputs": [
        {
          "output_type": "error",
          "ename": "TypeError",
          "evalue": "ignored",
          "traceback": [
            "\u001b[0;31m---------------------------------------------------------------------------\u001b[0m",
            "\u001b[0;31mTypeError\u001b[0m                                 Traceback (most recent call last)",
            "\u001b[0;32m<ipython-input-28-4cccea010eb8>\u001b[0m in \u001b[0;36m<module>\u001b[0;34m\u001b[0m\n\u001b[1;32m     16\u001b[0m \u001b[0;34m\u001b[0m\u001b[0m\n\u001b[1;32m     17\u001b[0m \u001b[0;31m# Visually inspect the vectorized data\u001b[0m\u001b[0;34m\u001b[0m\u001b[0;34m\u001b[0m\u001b[0m\n\u001b[0;32m---> 18\u001b[0;31m \u001b[0mpd\u001b[0m\u001b[0;34m.\u001b[0m\u001b[0mDataFrame\u001b[0m\u001b[0;34m.\u001b[0m\u001b[0msparse\u001b[0m\u001b[0;34m.\u001b[0m\u001b[0mfrom_spmatrix\u001b[0m\u001b[0;34m(\u001b[0m\u001b[0mX_train_vectorized\u001b[0m\u001b[0;34m,\u001b[0m \u001b[0mcolumns\u001b[0m\u001b[0;34m=\u001b[0m\u001b[0mtfidf\u001b[0m\u001b[0;34m.\u001b[0m\u001b[0mget_feature_names_out\u001b[0m\u001b[0;34m(\u001b[0m\u001b[0;34m)\u001b[0m\u001b[0;34m(\u001b[0m\u001b[0;34m)\u001b[0m\u001b[0;34m)\u001b[0m\u001b[0;34m\u001b[0m\u001b[0;34m\u001b[0m\u001b[0m\n\u001b[0m",
            "\u001b[0;31mTypeError\u001b[0m: 'numpy.ndarray' object is not callable"
          ]
        }
      ],
      "source": [
        "# Replace None with appropriate code\n",
        "\n",
        "# Import the relevant vectorizer class\n",
        "from sklearn.feature_extraction.text import TfidfVectorizer\n",
        "import numpy as np\n",
        "\n",
        "# Instantiate a vectorizer with max_features=10\n",
        "# (we are using the default token pattern)\n",
        "tfidf = TfidfVectorizer(max_features=10)\n",
        "\n",
        "# Fit the vectorizer on X_train[\"text\"]\n",
        "tfidf.fit(X_train[\"text\"])\n",
        "\n",
        "# Transform X_train[\"text\"] using the fitted vectorizer\n",
        "X_train_vectorized = tfidf.transform(X_train[\"text\"])\n",
        "\n",
        "# Visually inspect the vectorized data\n",
        "pd.DataFrame.sparse.from_spmatrix(X_train_vectorized, columns=tfidf.get_feature_names_out()())\n"
      ]
    },
    {
      "cell_type": "markdown",
      "metadata": {
        "id": "Fji70ICEFcK8"
      },
      "source": [
        "Check the shape of your vectorized data:"
      ]
    },
    {
      "cell_type": "code",
      "execution_count": 29,
      "metadata": {
        "id": "RAtRnMskFcK9"
      },
      "outputs": [],
      "source": [
        "# Run this cell without changes\n",
        "\n",
        "# We should still have the same number of rows\n",
        "assert X_train_vectorized.shape[0] == X_train.shape[0]\n",
        "\n",
        "# The vectorized version should have 10 columns, since we set\n",
        "# max_features=10\n",
        "assert X_train_vectorized.shape[1] == 10"
      ]
    },
    {
      "cell_type": "markdown",
      "metadata": {
        "id": "fwT-klcrFcK9"
      },
      "source": [
        "Now that we have preprocessed data, fit and evaluate a multinomial Naive Bayes classifier ([documentation here](https://scikit-learn.org/stable/modules/generated/sklearn.naive_bayes.MultinomialNB.html)) using `cross_val_score` ([documentation here](https://scikit-learn.org/stable/modules/generated/sklearn.model_selection.cross_val_score.html))."
      ]
    },
    {
      "cell_type": "code",
      "execution_count": 30,
      "metadata": {
        "colab": {
          "base_uri": "https://localhost:8080/"
        },
        "id": "vWuDxkqnFcK-",
        "outputId": "faec98e7-f4e8-4572-f381-6b5a6eb004d8"
      },
      "outputs": [
        {
          "output_type": "execute_result",
          "data": {
            "text/plain": [
              "array([0.39964789, 0.41725352, 0.3943662 , 0.42151675, 0.37389771])"
            ]
          },
          "metadata": {},
          "execution_count": 30
        }
      ],
      "source": [
        "# Replace None with appropriate code\n",
        "\n",
        "from sklearn.naive_bayes import MultinomialNB\n",
        "from sklearn.model_selection import cross_val_score\n",
        "\n",
        "# Instantiate a MultinomialNB classifier\n",
        "baseline_model = MultinomialNB()\n",
        "\n",
        "# Evaluate the classifier on X_train_vectorized and y_train\n",
        "baseline_cv = cross_val_score(baseline_model, X_train_vectorized, y_train)\n",
        "baseline_cv"
      ]
    },
    {
      "cell_type": "markdown",
      "metadata": {
        "id": "sDf4A-JIFcK_"
      },
      "source": [
        "How well is this model performing? Well, recall the class balance:"
      ]
    },
    {
      "cell_type": "code",
      "execution_count": 31,
      "metadata": {
        "colab": {
          "base_uri": "https://localhost:8080/"
        },
        "id": "Qf8Y2RigFcLA",
        "outputId": "c23a3ff8-d170-40f2-e2a5-e5ffabe66ed2"
      },
      "outputs": [
        {
          "output_type": "execute_result",
          "data": {
            "text/plain": [
              "2    0.211416\n",
              "3    0.209655\n",
              "0    0.208950\n",
              "1    0.206131\n",
              "4    0.163848\n",
              "Name: category, dtype: float64"
            ]
          },
          "metadata": {},
          "execution_count": 31
        }
      ],
      "source": [
        "# Run this cell without changes\n",
        "y_train.value_counts(normalize=True)"
      ]
    },
    {
      "cell_type": "markdown",
      "metadata": {
        "id": "ZM9uk2GIFcLB"
      },
      "source": [
        "If we guessed the plurality class every time (class `2`), we would expect about 21% accuracy. So when this model is getting 37-42% accuracy, that is a clear improvement over just guessing. But with an accuracy below 50%, we still expect the model to guess the wrong class the majority of the time. Let's see if we can improve that with more sophisticated preprocessing."
      ]
    },
    {
      "cell_type": "markdown",
      "metadata": {
        "id": "pdndfKYcFcLD"
      },
      "source": [
        "## 4. Iteratively Perform and Evaluate Preprocessing and Feature Engineering Techniques\n",
        "\n",
        "Now that we have our baseline, the fun part begins. As you've seen throughout this section, preprocessing text data is a bit more challenging that working with more traditional data types because there's no clear-cut answer for exactly what sort of preprocessing we need to do. As we are preprocessing our text data, we need to make some decisions about things such as:\n",
        "\n",
        "* Do we remove stop words or not?\n",
        "* What should be counted as a token? Do we stem or lemmatize our text data, or leave the words as is? Do we want to include non-\"words\" in our tokens?\n",
        "* Do we engineer other features, such as bigrams, or POS tags, or Mutual Information Scores?\n",
        "* Do we use the entire vocabulary, or just limit the model to a subset of the most frequently used words? If so, how many?\n",
        "* What sort of vectorization should we use in our model? Boolean Vectorization? Count Vectorization? TF-IDF? More advanced vectorization strategies such as Word2Vec?\n",
        "\n",
        "In this lab, we will work through the first four of these."
      ]
    },
    {
      "cell_type": "markdown",
      "metadata": {
        "id": "SAP_n0FSFcLE"
      },
      "source": [
        "### Removing Stopwords\n",
        "\n",
        "Let's begin with the first question: ***do we remove stopwords or not?*** In general we assume that stopwords do not contain useful information, but that is not always the case. Let's empirically investigate the top word frequencies of each category to see whether removing stopwords helps us to distinguish between the catogories.\n",
        "\n",
        "As-is, recall that the raw word frequency distributions of 4 out of 5 categories look very similar. They start with `the` as the word with by far the highest frequency, then there is a downward slope of other common words, starting with `to`. The `misc.forsale` category looks a little different, but it still has `the` as the top token.\n",
        "\n",
        "If we remove stopwords, how does this change the frequency distributions for each category?\n",
        "\n",
        "#### Stopwords List\n",
        "\n",
        "Once again, NLTK has a useful tool for this task. You can just import a list of standard stopwords:"
      ]
    },
    {
      "cell_type": "code",
      "execution_count": 32,
      "metadata": {
        "colab": {
          "base_uri": "https://localhost:8080/"
        },
        "id": "QanMSjcqFcLG",
        "outputId": "bd6fd91f-51cc-490a-f03e-b73a0e14f9b7"
      },
      "outputs": [
        {
          "output_type": "execute_result",
          "data": {
            "text/plain": [
              "['i',\n",
              " 'me',\n",
              " 'my',\n",
              " 'myself',\n",
              " 'we',\n",
              " 'our',\n",
              " 'ours',\n",
              " 'ourselves',\n",
              " 'you',\n",
              " \"you're\",\n",
              " \"you've\",\n",
              " \"you'll\",\n",
              " \"you'd\",\n",
              " 'your',\n",
              " 'yours',\n",
              " 'yourself',\n",
              " 'yourselves',\n",
              " 'he',\n",
              " 'him',\n",
              " 'his']"
            ]
          },
          "metadata": {},
          "execution_count": 32
        }
      ],
      "source": [
        "# Run this cell without changes\n",
        "import nltk\n",
        "nltk.download('stopwords', quiet=True)\n",
        "from nltk.corpus import stopwords\n",
        "\n",
        "stopwords_list = stopwords.words('english')\n",
        "stopwords_list[:20]"
      ]
    },
    {
      "cell_type": "markdown",
      "metadata": {
        "id": "UuL_400DFcLH"
      },
      "source": [
        "We can customize that list as well.\n",
        "\n",
        "Let's say that we want to keep the word `\"for\"` in our final vocabulary, since it appears disproportionately often in the `misc.forsale` category. The code below removes that from the stopwords:"
      ]
    },
    {
      "cell_type": "code",
      "execution_count": 33,
      "metadata": {
        "colab": {
          "base_uri": "https://localhost:8080/"
        },
        "id": "GV2Qxuy9FcLI",
        "outputId": "7e6829db-d63a-47bb-8281-148955d9521e"
      },
      "outputs": [
        {
          "output_type": "stream",
          "name": "stdout",
          "text": [
            "Original list length: 179\n",
            "List length after removing 'for': 178\n"
          ]
        }
      ],
      "source": [
        "# Run this cell without changes\n",
        "print(\"Original list length:\", len(stopwords_list))\n",
        "stopwords_list.pop(stopwords_list.index(\"for\"))\n",
        "print(\"List length after removing 'for':\", len(stopwords_list))"
      ]
    },
    {
      "cell_type": "markdown",
      "metadata": {
        "id": "9mc6pVGfFcLI"
      },
      "source": [
        "In the cell below, write a function `remove_stopwords` that takes in a list-like collection of strings (tokens) and returns only those that are not in the list of stopwords. (Use the `stopwords_list` in the global scope, so that we can later use `.apply` with this function.)"
      ]
    },
    {
      "cell_type": "code",
      "execution_count": 34,
      "metadata": {
        "id": "od0IgjD4FcLJ"
      },
      "outputs": [],
      "source": [
        "# Replace None with appropriate code\n",
        "def remove_stopwords(token_list):\n",
        "    \"\"\"\n",
        "    Given a list of tokens, return a list where the tokens\n",
        "    that are also present in stopwords_list have been\n",
        "    removed\n",
        "    \"\"\"\n",
        "    None"
      ]
    },
    {
      "cell_type": "markdown",
      "metadata": {
        "id": "AXPYyj1FFcLK"
      },
      "source": [
        "Test it out on one example:"
      ]
    },
    {
      "cell_type": "code",
      "execution_count": 37,
      "metadata": {
        "colab": {
          "base_uri": "https://localhost:8080/",
          "height": 235
        },
        "id": "vL7NeCZeFcLL",
        "outputId": "0be2b314-dd32-40dd-b23c-49366ace82af"
      },
      "outputs": [
        {
          "output_type": "stream",
          "name": "stdout",
          "text": [
            "Length with stopwords: 110\n",
            "Length without stopwords: 63\n"
          ]
        },
        {
          "output_type": "error",
          "ename": "AssertionError",
          "evalue": "ignored",
          "traceback": [
            "\u001b[0;31m---------------------------------------------------------------------------\u001b[0m",
            "\u001b[0;31mAssertionError\u001b[0m                            Traceback (most recent call last)",
            "\u001b[0;32m<ipython-input-37-f0b6afa03cee>\u001b[0m in \u001b[0;36m<module>\u001b[0;34m\u001b[0m\n\u001b[1;32m      6\u001b[0m \u001b[0mtokens_example_without_stopwords\u001b[0m \u001b[0;34m=\u001b[0m \u001b[0mremove_stopwords\u001b[0m\u001b[0;34m(\u001b[0m\u001b[0mtokens_example\u001b[0m\u001b[0;34m)\u001b[0m\u001b[0;34m\u001b[0m\u001b[0;34m\u001b[0m\u001b[0m\n\u001b[1;32m      7\u001b[0m \u001b[0mprint\u001b[0m\u001b[0;34m(\u001b[0m\u001b[0;34m\"Length without stopwords:\"\u001b[0m\u001b[0;34m,\u001b[0m \u001b[0mlen\u001b[0m\u001b[0;34m(\u001b[0m\u001b[0mtokens_example_without_stopwords\u001b[0m\u001b[0;34m)\u001b[0m\u001b[0;34m)\u001b[0m\u001b[0;34m\u001b[0m\u001b[0;34m\u001b[0m\u001b[0m\n\u001b[0;32m----> 8\u001b[0;31m \u001b[0;32massert\u001b[0m \u001b[0mlen\u001b[0m\u001b[0;34m(\u001b[0m\u001b[0mtokens_example_without_stopwords\u001b[0m\u001b[0;34m)\u001b[0m \u001b[0;34m==\u001b[0m \u001b[0;36m65\u001b[0m\u001b[0;34m\u001b[0m\u001b[0;34m\u001b[0m\u001b[0m\n\u001b[0m",
            "\u001b[0;31mAssertionError\u001b[0m: "
          ]
        }
      ],
      "source": [
        "# Run this cell without changes\n",
        "tokens_example = X_train.iloc[100][\"text_tokenized\"]\n",
        "print(\"Length with stopwords:\", len(tokens_example))\n",
        "assert len(tokens_example) == 110\n",
        "\n",
        "tokens_example_without_stopwords = remove_stopwords(tokens_example)\n",
        "print(\"Length without stopwords:\", len(tokens_example_without_stopwords))\n",
        "assert len(tokens_example_without_stopwords) == 65"
      ]
    },
    {
      "cell_type": "markdown",
      "metadata": {
        "id": "YZJhrmh2FcLM"
      },
      "source": [
        "If that ran successfully, go ahead and apply it to the full `X_train`."
      ]
    },
    {
      "cell_type": "code",
      "execution_count": 38,
      "metadata": {
        "id": "vqy434UbFcLN"
      },
      "outputs": [],
      "source": [
        "# Run this cell without changes\n",
        "X_train[\"text_without_stopwords\"] = X_train[\"text_tokenized\"].apply(remove_stopwords)"
      ]
    },
    {
      "cell_type": "markdown",
      "metadata": {
        "id": "iR8mesZqFcLO"
      },
      "source": [
        "Now we can compare frequency distributions without stopwords:"
      ]
    },
    {
      "cell_type": "code",
      "execution_count": 39,
      "metadata": {
        "colab": {
          "base_uri": "https://localhost:8080/",
          "height": 655
        },
        "id": "fsajZYg6FcLO",
        "outputId": "6f20214a-f41c-40ce-9487-cfb694bcda0a"
      },
      "outputs": [
        {
          "output_type": "display_data",
          "data": {
            "text/plain": [
              "<Figure size 1080x648 with 5 Axes>"
            ],
            "image/png": "[encoded data removed]"
          },
          "metadata": {
            "needs_background": "light"
          }
        }
      ],
      "source": [
        "# Run this cell without changes\n",
        "fig, axes = setup_five_subplots()\n",
        "plot_distribution_of_column_by_category(\"text_without_stopwords\", axes)\n",
        "fig.suptitle(\"Word Frequencies without Stopwords\", fontsize=24);"
      ]
    },
    {
      "cell_type": "markdown",
      "metadata": {
        "id": "trn24rbRFcLP"
      },
      "source": [
        "Ok, this seems to answer our question. The most common words differ significantly between categories now, meaning that hopefully our model will have an easier time distinguishing between them.\n",
        "\n",
        "Let's redo our modeling process, using `stopwords_list` when instantiating the vectorizer:"
      ]
    },
    {
      "cell_type": "code",
      "execution_count": 40,
      "metadata": {
        "colab": {
          "base_uri": "https://localhost:8080/",
          "height": 200
        },
        "id": "D300sJVXFcLQ",
        "outputId": "a73ca0db-d1d0-425a-8be0-94d8d0d1a20a"
      },
      "outputs": [
        {
          "output_type": "error",
          "ename": "AttributeError",
          "evalue": "ignored",
          "traceback": [
            "\u001b[0;31m---------------------------------------------------------------------------\u001b[0m",
            "\u001b[0;31mAttributeError\u001b[0m                            Traceback (most recent call last)",
            "\u001b[0;32m<ipython-input-40-acefed63bbc2>\u001b[0m in \u001b[0;36m<module>\u001b[0;34m\u001b[0m\n\u001b[1;32m     11\u001b[0m \u001b[0;34m\u001b[0m\u001b[0m\n\u001b[1;32m     12\u001b[0m \u001b[0;31m# Visually inspect the vectorized data\u001b[0m\u001b[0;34m\u001b[0m\u001b[0;34m\u001b[0m\u001b[0m\n\u001b[0;32m---> 13\u001b[0;31m \u001b[0mpd\u001b[0m\u001b[0;34m.\u001b[0m\u001b[0mDataFrame\u001b[0m\u001b[0;34m.\u001b[0m\u001b[0msparse\u001b[0m\u001b[0;34m.\u001b[0m\u001b[0mfrom_spmatrix\u001b[0m\u001b[0;34m(\u001b[0m\u001b[0mX_train_vectorized\u001b[0m\u001b[0;34m,\u001b[0m \u001b[0mcolumns\u001b[0m\u001b[0;34m=\u001b[0m\u001b[0mtfidf\u001b[0m\u001b[0;34m.\u001b[0m\u001b[0mget_feature_names\u001b[0m\u001b[0;34m(\u001b[0m\u001b[0;34m)\u001b[0m\u001b[0;34m)\u001b[0m\u001b[0;34m\u001b[0m\u001b[0;34m\u001b[0m\u001b[0m\n\u001b[0m",
            "\u001b[0;31mAttributeError\u001b[0m: 'TfidfVectorizer' object has no attribute 'get_feature_names'"
          ]
        }
      ],
      "source": [
        "# Run this cell without changes\n",
        "\n",
        "# Instantiate the vectorizer\n",
        "tfidf = TfidfVectorizer(\n",
        "    max_features=10,\n",
        "    stop_words=stopwords_list\n",
        ")\n",
        "\n",
        "# Fit the vectorizer on X_train[\"text\"] and transform it\n",
        "X_train_vectorized = tfidf.fit_transform(X_train[\"text\"])\n",
        "\n",
        "# Visually inspect the vectorized data\n",
        "pd.DataFrame.sparse.from_spmatrix(X_train_vectorized, columns=tfidf.get_feature_names())"
      ]
    },
    {
      "cell_type": "code",
      "execution_count": 41,
      "metadata": {
        "colab": {
          "base_uri": "https://localhost:8080/"
        },
        "id": "fDvlShF3FcLR",
        "outputId": "523145ce-ea6a-48ee-deca-f70b0f887acd"
      },
      "outputs": [
        {
          "output_type": "execute_result",
          "data": {
            "text/plain": [
              "array([0.40316901, 0.37852113, 0.36619718, 0.39153439, 0.40564374])"
            ]
          },
          "metadata": {},
          "execution_count": 41
        }
      ],
      "source": [
        "# Run this cell without changes\n",
        "\n",
        "# Evaluate the classifier on X_train_vectorized and y_train\n",
        "stopwords_removed_cv = cross_val_score(baseline_model, X_train_vectorized, y_train)\n",
        "stopwords_removed_cv"
      ]
    },
    {
      "cell_type": "markdown",
      "metadata": {
        "id": "8eRXnh3FFcLR"
      },
      "source": [
        "How does this compare to our baseline?"
      ]
    },
    {
      "cell_type": "code",
      "execution_count": 42,
      "metadata": {
        "colab": {
          "base_uri": "https://localhost:8080/"
        },
        "id": "zzhcpLEBFcLS",
        "outputId": "710d7eae-eb74-42e1-88ea-1e79c95ad72e"
      },
      "outputs": [
        {
          "output_type": "stream",
          "name": "stdout",
          "text": [
            "Baseline:          0.4013364135429863\n",
            "Stopwords removed: 0.3890130908910252\n"
          ]
        }
      ],
      "source": [
        "# Run this cell without changes\n",
        "print(\"Baseline:         \", baseline_cv.mean())\n",
        "print(\"Stopwords removed:\", stopwords_removed_cv.mean())"
      ]
    },
    {
      "cell_type": "markdown",
      "metadata": {
        "id": "9cT8XidFFcLU"
      },
      "source": [
        "Looks like we have a marginal improvement, but still an improvement. So, to answer ***do we remove stopwords or not:*** yes, let's remove stopwords."
      ]
    },
    {
      "cell_type": "markdown",
      "metadata": {
        "id": "PBVYeoD_FcLV"
      },
      "source": [
        "### Using Custom Tokens\n",
        "\n",
        "Our next question is ***what should be counted as a token?***\n",
        "\n",
        "Recall that currently we are using the default token pattern, which finds words of two or more characters. What happens if we also *stem* those words, so that `swims` and `swimming` would count as the same token?\n",
        "\n",
        "Here we have provided a custom tokenizing function:"
      ]
    },
    {
      "cell_type": "code",
      "execution_count": 43,
      "metadata": {
        "id": "8D32uyTRFcLV"
      },
      "outputs": [],
      "source": [
        "# Run this cell without changes\n",
        "from nltk.stem.snowball import SnowballStemmer\n",
        "stemmer = SnowballStemmer(language=\"english\")\n",
        "\n",
        "def stem_and_tokenize(document):\n",
        "    tokens = tokenizer.tokenize(document)\n",
        "    return [stemmer.stem(token) for token in tokens]"
      ]
    },
    {
      "cell_type": "markdown",
      "metadata": {
        "id": "Xt08fQoFFcLW"
      },
      "source": [
        "This uses `tokenizer` that we created earlier, as well as a new `stemmer` object. See an example below:"
      ]
    },
    {
      "cell_type": "code",
      "execution_count": 44,
      "metadata": {
        "colab": {
          "base_uri": "https://localhost:8080/"
        },
        "id": "8XsN2_DBFcLX",
        "outputId": "35106531-f6ae-420b-ba1c-2d5b75f8ce70"
      },
      "outputs": [
        {
          "output_type": "stream",
          "name": "stdout",
          "text": [
            "Original sample: ['happening', 'because', 'am', 'not', 'using', 'xtappmainloop', 'but', 'am', 'dealing', 'with']\n",
            "Stemmed sample:  ['happen', 'becaus', 'am', 'not', 'use', 'xtappmainloop', 'but', 'am', 'deal', 'with']\n"
          ]
        }
      ],
      "source": [
        "# Run this cell without changes\n",
        "print(\"Original sample:\", X_train.iloc[100][\"text_tokenized\"][20:30])\n",
        "print(\"Stemmed sample: \", stem_and_tokenize(X_train.iloc[100][\"text\"])[20:30])"
      ]
    },
    {
      "cell_type": "markdown",
      "metadata": {
        "id": "SrTjDN9nFcLY"
      },
      "source": [
        "We also need to stem our stopwords:"
      ]
    },
    {
      "cell_type": "code",
      "execution_count": 45,
      "metadata": {
        "id": "uYOp9IMpFcLY"
      },
      "outputs": [],
      "source": [
        "# Run this cell without changes\n",
        "stemmed_stopwords = [stemmer.stem(word) for word in stopwords_list]"
      ]
    },
    {
      "cell_type": "markdown",
      "metadata": {
        "id": "bhM8X1eCFcLZ"
      },
      "source": [
        "In the cells below, repeat the modeling process from earlier. This time when instantiating the `TfidfVectorizer`, specify:\n",
        "\n",
        "* `max_features=10` (same as previous)\n",
        "* `stop_words=stemmed_stopwords` (modified)\n",
        "* `tokenizer=stem_and_tokenize` (new)"
      ]
    },
    {
      "cell_type": "code",
      "execution_count": 46,
      "metadata": {
        "colab": {
          "base_uri": "https://localhost:8080/",
          "height": 235
        },
        "id": "nRs2wfyLFcLa",
        "outputId": "67d01414-bacf-4d9c-b383-55ed1057aab8"
      },
      "outputs": [
        {
          "output_type": "stream",
          "name": "stderr",
          "text": [
            "/usr/local/lib/python3.9/dist-packages/sklearn/feature_extraction/text.py:528: UserWarning: The parameter 'token_pattern' will not be used since 'tokenizer' is not None'\n",
            "  warnings.warn(\n"
          ]
        },
        {
          "output_type": "error",
          "ename": "AttributeError",
          "evalue": "ignored",
          "traceback": [
            "\u001b[0;31m---------------------------------------------------------------------------\u001b[0m",
            "\u001b[0;31mAttributeError\u001b[0m                            Traceback (most recent call last)",
            "\u001b[0;32m<ipython-input-46-38244398b2e8>\u001b[0m in \u001b[0;36m<module>\u001b[0;34m\u001b[0m\n\u001b[1;32m     12\u001b[0m \u001b[0;34m\u001b[0m\u001b[0m\n\u001b[1;32m     13\u001b[0m \u001b[0;31m# Visually inspect the vectorized data\u001b[0m\u001b[0;34m\u001b[0m\u001b[0;34m\u001b[0m\u001b[0m\n\u001b[0;32m---> 14\u001b[0;31m \u001b[0mpd\u001b[0m\u001b[0;34m.\u001b[0m\u001b[0mDataFrame\u001b[0m\u001b[0;34m.\u001b[0m\u001b[0msparse\u001b[0m\u001b[0;34m.\u001b[0m\u001b[0mfrom_spmatrix\u001b[0m\u001b[0;34m(\u001b[0m\u001b[0mX_train_vectorized\u001b[0m\u001b[0;34m,\u001b[0m \u001b[0mcolumns\u001b[0m\u001b[0;34m=\u001b[0m\u001b[0mtfidf\u001b[0m\u001b[0;34m.\u001b[0m\u001b[0mget_feature_names\u001b[0m\u001b[0;34m(\u001b[0m\u001b[0;34m)\u001b[0m\u001b[0;34m)\u001b[0m\u001b[0;34m\u001b[0m\u001b[0;34m\u001b[0m\u001b[0m\n\u001b[0m",
            "\u001b[0;31mAttributeError\u001b[0m: 'TfidfVectorizer' object has no attribute 'get_feature_names'"
          ]
        }
      ],
      "source": [
        "# Replace None with appropriate code\n",
        "\n",
        "# Instantiate the vectorizer\n",
        "tfidf = TfidfVectorizer(\n",
        "    max_features=10,\n",
        "    stop_words=stemmed_stopwords,\n",
        "    tokenizer=stem_and_tokenize\n",
        ")\n",
        "\n",
        "# Fit the vectorizer on X_train[\"text\"] and transform it\n",
        "X_train_vectorized = tfidf.fit_transform(X_train[\"text\"])\n",
        "\n",
        "# Visually inspect the vectorized data\n",
        "pd.DataFrame.sparse.from_spmatrix(X_train_vectorized, columns=tfidf.get_feature_names())"
      ]
    },
    {
      "cell_type": "code",
      "execution_count": null,
      "metadata": {
        "id": "ydX2XpWjFcLb"
      },
      "outputs": [],
      "source": [
        "# Run this cell without changes\n",
        "\n",
        "# Evaluate the classifier on X_train_vectorized and y_train\n",
        "stemmed_cv = cross_val_score(baseline_model, X_train_vectorized, y_train)\n",
        "stemmed_cv"
      ]
    },
    {
      "cell_type": "markdown",
      "metadata": {
        "id": "o1y-wBobFcLc"
      },
      "source": [
        "How does this compare to our previous best modeling process?"
      ]
    },
    {
      "cell_type": "code",
      "execution_count": 47,
      "metadata": {
        "colab": {
          "base_uri": "https://localhost:8080/",
          "height": 218
        },
        "id": "1BmqrS_JFcLd",
        "outputId": "da06a204-137a-47ff-deea-3ebbb415223f"
      },
      "outputs": [
        {
          "output_type": "stream",
          "name": "stdout",
          "text": [
            "Stopwords removed: 0.3890130908910252\n"
          ]
        },
        {
          "output_type": "error",
          "ename": "NameError",
          "evalue": "ignored",
          "traceback": [
            "\u001b[0;31m---------------------------------------------------------------------------\u001b[0m",
            "\u001b[0;31mNameError\u001b[0m                                 Traceback (most recent call last)",
            "\u001b[0;32m<ipython-input-47-8e8f815bae23>\u001b[0m in \u001b[0;36m<module>\u001b[0;34m\u001b[0m\n\u001b[1;32m      1\u001b[0m \u001b[0;31m# Run this cell without changes\u001b[0m\u001b[0;34m\u001b[0m\u001b[0;34m\u001b[0m\u001b[0m\n\u001b[1;32m      2\u001b[0m \u001b[0mprint\u001b[0m\u001b[0;34m(\u001b[0m\u001b[0;34m\"Stopwords removed:\"\u001b[0m\u001b[0;34m,\u001b[0m \u001b[0mstopwords_removed_cv\u001b[0m\u001b[0;34m.\u001b[0m\u001b[0mmean\u001b[0m\u001b[0;34m(\u001b[0m\u001b[0;34m)\u001b[0m\u001b[0;34m)\u001b[0m\u001b[0;34m\u001b[0m\u001b[0;34m\u001b[0m\u001b[0m\n\u001b[0;32m----> 3\u001b[0;31m \u001b[0mprint\u001b[0m\u001b[0;34m(\u001b[0m\u001b[0;34m\"Stemmed:          \"\u001b[0m\u001b[0;34m,\u001b[0m \u001b[0mstemmed_cv\u001b[0m\u001b[0;34m.\u001b[0m\u001b[0mmean\u001b[0m\u001b[0;34m(\u001b[0m\u001b[0;34m)\u001b[0m\u001b[0;34m)\u001b[0m\u001b[0;34m\u001b[0m\u001b[0;34m\u001b[0m\u001b[0m\n\u001b[0m",
            "\u001b[0;31mNameError\u001b[0m: name 'stemmed_cv' is not defined"
          ]
        }
      ],
      "source": [
        "# Run this cell without changes\n",
        "print(\"Stopwords removed:\", stopwords_removed_cv.mean())\n",
        "print(\"Stemmed:          \", stemmed_cv.mean())"
      ]
    },
    {
      "cell_type": "markdown",
      "metadata": {
        "id": "W95bL1i6FcLf"
      },
      "source": [
        "Great! Another improvement, a slightly bigger one than we got when just removing stopwords. So, our best modeling process for now is one where we remove stopwords, use the default token pattern, and stem our tokens with a snowball stemmer."
      ]
    },
    {
      "cell_type": "markdown",
      "metadata": {
        "id": "dtvgeHE1FcLg"
      },
      "source": [
        "### Domain-Specific Feature Engineering\n",
        "\n",
        "The way to really get the most information out of text data is by adding features beyond just vectorizing the tokens. This code will be completed for you, and it's okay if you don't fully understand everything that is happening, but we hope it helps you brainstorm for future projects!"
      ]
    },
    {
      "cell_type": "markdown",
      "metadata": {
        "id": "SoFy-4qwFcLg"
      },
      "source": [
        "#### Number of Sentences\n",
        "\n",
        "Does the number of sentences in a post differ by category? Let's investigate.\n",
        "\n",
        "Once again, there is a tool from NLTK that helps with this task."
      ]
    },
    {
      "cell_type": "code",
      "execution_count": 48,
      "metadata": {
        "colab": {
          "base_uri": "https://localhost:8080/",
          "height": 728
        },
        "id": "2OjXx8BVFcLh",
        "outputId": "ff79ccd4-a998-4a19-a9c4-11145a9f9097"
      },
      "outputs": [
        {
          "output_type": "error",
          "ename": "LookupError",
          "evalue": "ignored",
          "traceback": [
            "\u001b[0;31m---------------------------------------------------------------------------\u001b[0m",
            "\u001b[0;31mLookupError\u001b[0m                               Traceback (most recent call last)",
            "\u001b[0;32m<ipython-input-48-db43a50cc7f4>\u001b[0m in \u001b[0;36m<module>\u001b[0;34m\u001b[0m\n\u001b[1;32m      2\u001b[0m \u001b[0;32mfrom\u001b[0m \u001b[0mnltk\u001b[0m\u001b[0;34m.\u001b[0m\u001b[0mtokenize\u001b[0m \u001b[0;32mimport\u001b[0m \u001b[0msent_tokenize\u001b[0m\u001b[0;34m\u001b[0m\u001b[0;34m\u001b[0m\u001b[0m\n\u001b[1;32m      3\u001b[0m \u001b[0;34m\u001b[0m\u001b[0m\n\u001b[0;32m----> 4\u001b[0;31m \u001b[0msent_tokenize\u001b[0m\u001b[0;34m(\u001b[0m\u001b[0mX_train\u001b[0m\u001b[0;34m.\u001b[0m\u001b[0miloc\u001b[0m\u001b[0;34m[\u001b[0m\u001b[0;36m100\u001b[0m\u001b[0;34m]\u001b[0m\u001b[0;34m[\u001b[0m\u001b[0;34m\"text\"\u001b[0m\u001b[0;34m]\u001b[0m\u001b[0;34m)\u001b[0m\u001b[0;34m\u001b[0m\u001b[0;34m\u001b[0m\u001b[0m\n\u001b[0m",
            "\u001b[0;32m/usr/local/lib/python3.9/dist-packages/nltk/tokenize/__init__.py\u001b[0m in \u001b[0;36msent_tokenize\u001b[0;34m(text, language)\u001b[0m\n\u001b[1;32m    104\u001b[0m     \u001b[0;34m:\u001b[0m\u001b[0mparam\u001b[0m \u001b[0mlanguage\u001b[0m\u001b[0;34m:\u001b[0m \u001b[0mthe\u001b[0m \u001b[0mmodel\u001b[0m \u001b[0mname\u001b[0m \u001b[0;32min\u001b[0m \u001b[0mthe\u001b[0m \u001b[0mPunkt\u001b[0m \u001b[0mcorpus\u001b[0m\u001b[0;34m\u001b[0m\u001b[0;34m\u001b[0m\u001b[0m\n\u001b[1;32m    105\u001b[0m     \"\"\"\n\u001b[0;32m--> 106\u001b[0;31m     \u001b[0mtokenizer\u001b[0m \u001b[0;34m=\u001b[0m \u001b[0mload\u001b[0m\u001b[0;34m(\u001b[0m\u001b[0;34mf\"tokenizers/punkt/{language}.pickle\"\u001b[0m\u001b[0;34m)\u001b[0m\u001b[0;34m\u001b[0m\u001b[0;34m\u001b[0m\u001b[0m\n\u001b[0m\u001b[1;32m    107\u001b[0m     \u001b[0;32mreturn\u001b[0m \u001b[0mtokenizer\u001b[0m\u001b[0;34m.\u001b[0m\u001b[0mtokenize\u001b[0m\u001b[0;34m(\u001b[0m\u001b[0mtext\u001b[0m\u001b[0;34m)\u001b[0m\u001b[0;34m\u001b[0m\u001b[0;34m\u001b[0m\u001b[0m\n\u001b[1;32m    108\u001b[0m \u001b[0;34m\u001b[0m\u001b[0m\n",
            "\u001b[0;32m/usr/local/lib/python3.9/dist-packages/nltk/data.py\u001b[0m in \u001b[0;36mload\u001b[0;34m(resource_url, format, cache, verbose, logic_parser, fstruct_reader, encoding)\u001b[0m\n\u001b[1;32m    748\u001b[0m \u001b[0;34m\u001b[0m\u001b[0m\n\u001b[1;32m    749\u001b[0m     \u001b[0;31m# Load the resource.\u001b[0m\u001b[0;34m\u001b[0m\u001b[0;34m\u001b[0m\u001b[0m\n\u001b[0;32m--> 750\u001b[0;31m     \u001b[0mopened_resource\u001b[0m \u001b[0;34m=\u001b[0m \u001b[0m_open\u001b[0m\u001b[0;34m(\u001b[0m\u001b[0mresource_url\u001b[0m\u001b[0;34m)\u001b[0m\u001b[0;34m\u001b[0m\u001b[0;34m\u001b[0m\u001b[0m\n\u001b[0m\u001b[1;32m    751\u001b[0m \u001b[0;34m\u001b[0m\u001b[0m\n\u001b[1;32m    752\u001b[0m     \u001b[0;32mif\u001b[0m \u001b[0mformat\u001b[0m \u001b[0;34m==\u001b[0m \u001b[0;34m\"raw\"\u001b[0m\u001b[0;34m:\u001b[0m\u001b[0;34m\u001b[0m\u001b[0;34m\u001b[0m\u001b[0m\n",
            "\u001b[0;32m/usr/local/lib/python3.9/dist-packages/nltk/data.py\u001b[0m in \u001b[0;36m_open\u001b[0;34m(resource_url)\u001b[0m\n\u001b[1;32m    874\u001b[0m \u001b[0;34m\u001b[0m\u001b[0m\n\u001b[1;32m    875\u001b[0m     \u001b[0;32mif\u001b[0m \u001b[0mprotocol\u001b[0m \u001b[0;32mis\u001b[0m \u001b[0;32mNone\u001b[0m \u001b[0;32mor\u001b[0m \u001b[0mprotocol\u001b[0m\u001b[0;34m.\u001b[0m\u001b[0mlower\u001b[0m\u001b[0;34m(\u001b[0m\u001b[0;34m)\u001b[0m \u001b[0;34m==\u001b[0m \u001b[0;34m\"nltk\"\u001b[0m\u001b[0;34m:\u001b[0m\u001b[0;34m\u001b[0m\u001b[0;34m\u001b[0m\u001b[0m\n\u001b[0;32m--> 876\u001b[0;31m         \u001b[0;32mreturn\u001b[0m \u001b[0mfind\u001b[0m\u001b[0;34m(\u001b[0m\u001b[0mpath_\u001b[0m\u001b[0;34m,\u001b[0m \u001b[0mpath\u001b[0m \u001b[0;34m+\u001b[0m \u001b[0;34m[\u001b[0m\u001b[0;34m\"\"\u001b[0m\u001b[0;34m]\u001b[0m\u001b[0;34m)\u001b[0m\u001b[0;34m.\u001b[0m\u001b[0mopen\u001b[0m\u001b[0;34m(\u001b[0m\u001b[0;34m)\u001b[0m\u001b[0;34m\u001b[0m\u001b[0;34m\u001b[0m\u001b[0m\n\u001b[0m\u001b[1;32m    877\u001b[0m     \u001b[0;32melif\u001b[0m \u001b[0mprotocol\u001b[0m\u001b[0;34m.\u001b[0m\u001b[0mlower\u001b[0m\u001b[0;34m(\u001b[0m\u001b[0;34m)\u001b[0m \u001b[0;34m==\u001b[0m \u001b[0;34m\"file\"\u001b[0m\u001b[0;34m:\u001b[0m\u001b[0;34m\u001b[0m\u001b[0;34m\u001b[0m\u001b[0m\n\u001b[1;32m    878\u001b[0m         \u001b[0;31m# urllib might not use mode='rb', so handle this one ourselves:\u001b[0m\u001b[0;34m\u001b[0m\u001b[0;34m\u001b[0m\u001b[0m\n",
            "\u001b[0;32m/usr/local/lib/python3.9/dist-packages/nltk/data.py\u001b[0m in \u001b[0;36mfind\u001b[0;34m(resource_name, paths)\u001b[0m\n\u001b[1;32m    581\u001b[0m     \u001b[0msep\u001b[0m \u001b[0;34m=\u001b[0m \u001b[0;34m\"*\"\u001b[0m \u001b[0;34m*\u001b[0m \u001b[0;36m70\u001b[0m\u001b[0;34m\u001b[0m\u001b[0;34m\u001b[0m\u001b[0m\n\u001b[1;32m    582\u001b[0m     \u001b[0mresource_not_found\u001b[0m \u001b[0;34m=\u001b[0m \u001b[0;34mf\"\\n{sep}\\n{msg}\\n{sep}\\n\"\u001b[0m\u001b[0;34m\u001b[0m\u001b[0;34m\u001b[0m\u001b[0m\n\u001b[0;32m--> 583\u001b[0;31m     \u001b[0;32mraise\u001b[0m \u001b[0mLookupError\u001b[0m\u001b[0;34m(\u001b[0m\u001b[0mresource_not_found\u001b[0m\u001b[0;34m)\u001b[0m\u001b[0;34m\u001b[0m\u001b[0;34m\u001b[0m\u001b[0m\n\u001b[0m\u001b[1;32m    584\u001b[0m \u001b[0;34m\u001b[0m\u001b[0m\n\u001b[1;32m    585\u001b[0m \u001b[0;34m\u001b[0m\u001b[0m\n",
            "\u001b[0;31mLookupError\u001b[0m: \n**********************************************************************\n  Resource \u001b[93mpunkt\u001b[0m not found.\n  Please use the NLTK Downloader to obtain the resource:\n\n  \u001b[31m>>> import nltk\n  >>> nltk.download('punkt')\n  \u001b[0m\n  For more information see: https://www.nltk.org/data.html\n\n  Attempted to load \u001b[93mtokenizers/punkt/PY3/english.pickle\u001b[0m\n\n  Searched in:\n    - '/root/nltk_data'\n    - '/usr/nltk_data'\n    - '/usr/share/nltk_data'\n    - '/usr/lib/nltk_data'\n    - '/usr/share/nltk_data'\n    - '/usr/local/share/nltk_data'\n    - '/usr/lib/nltk_data'\n    - '/usr/local/lib/nltk_data'\n    - ''\n**********************************************************************\n"
          ]
        }
      ],
      "source": [
        "# Run this cell without changes\n",
        "from nltk.tokenize import sent_tokenize\n",
        "\n",
        "sent_tokenize(X_train.iloc[100][\"text\"])"
      ]
    },
    {
      "cell_type": "markdown",
      "metadata": {
        "id": "lXQwAgT0FcLi"
      },
      "source": [
        "We can just take the length of this list to find the number of sentences:"
      ]
    },
    {
      "cell_type": "code",
      "execution_count": 49,
      "metadata": {
        "colab": {
          "base_uri": "https://localhost:8080/",
          "height": 711
        },
        "id": "RDcIlx1MFcLi",
        "outputId": "10eb0ece-aa01-49df-cc53-65dd51b23197"
      },
      "outputs": [
        {
          "output_type": "error",
          "ename": "LookupError",
          "evalue": "ignored",
          "traceback": [
            "\u001b[0;31m---------------------------------------------------------------------------\u001b[0m",
            "\u001b[0;31mLookupError\u001b[0m                               Traceback (most recent call last)",
            "\u001b[0;32m<ipython-input-49-627487ab4219>\u001b[0m in \u001b[0;36m<module>\u001b[0;34m\u001b[0m\n\u001b[1;32m      1\u001b[0m \u001b[0;31m# Run this cell without changes\u001b[0m\u001b[0;34m\u001b[0m\u001b[0;34m\u001b[0m\u001b[0m\n\u001b[0;32m----> 2\u001b[0;31m \u001b[0mlen\u001b[0m\u001b[0;34m(\u001b[0m\u001b[0msent_tokenize\u001b[0m\u001b[0;34m(\u001b[0m\u001b[0mX_train\u001b[0m\u001b[0;34m.\u001b[0m\u001b[0miloc\u001b[0m\u001b[0;34m[\u001b[0m\u001b[0;36m100\u001b[0m\u001b[0;34m]\u001b[0m\u001b[0;34m[\u001b[0m\u001b[0;34m\"text\"\u001b[0m\u001b[0;34m]\u001b[0m\u001b[0;34m)\u001b[0m\u001b[0;34m)\u001b[0m\u001b[0;34m\u001b[0m\u001b[0;34m\u001b[0m\u001b[0m\n\u001b[0m",
            "\u001b[0;32m/usr/local/lib/python3.9/dist-packages/nltk/tokenize/__init__.py\u001b[0m in \u001b[0;36msent_tokenize\u001b[0;34m(text, language)\u001b[0m\n\u001b[1;32m    104\u001b[0m     \u001b[0;34m:\u001b[0m\u001b[0mparam\u001b[0m \u001b[0mlanguage\u001b[0m\u001b[0;34m:\u001b[0m \u001b[0mthe\u001b[0m \u001b[0mmodel\u001b[0m \u001b[0mname\u001b[0m \u001b[0;32min\u001b[0m \u001b[0mthe\u001b[0m \u001b[0mPunkt\u001b[0m \u001b[0mcorpus\u001b[0m\u001b[0;34m\u001b[0m\u001b[0;34m\u001b[0m\u001b[0m\n\u001b[1;32m    105\u001b[0m     \"\"\"\n\u001b[0;32m--> 106\u001b[0;31m     \u001b[0mtokenizer\u001b[0m \u001b[0;34m=\u001b[0m \u001b[0mload\u001b[0m\u001b[0;34m(\u001b[0m\u001b[0;34mf\"tokenizers/punkt/{language}.pickle\"\u001b[0m\u001b[0;34m)\u001b[0m\u001b[0;34m\u001b[0m\u001b[0;34m\u001b[0m\u001b[0m\n\u001b[0m\u001b[1;32m    107\u001b[0m     \u001b[0;32mreturn\u001b[0m \u001b[0mtokenizer\u001b[0m\u001b[0;34m.\u001b[0m\u001b[0mtokenize\u001b[0m\u001b[0;34m(\u001b[0m\u001b[0mtext\u001b[0m\u001b[0;34m)\u001b[0m\u001b[0;34m\u001b[0m\u001b[0;34m\u001b[0m\u001b[0m\n\u001b[1;32m    108\u001b[0m \u001b[0;34m\u001b[0m\u001b[0m\n",
            "\u001b[0;32m/usr/local/lib/python3.9/dist-packages/nltk/data.py\u001b[0m in \u001b[0;36mload\u001b[0;34m(resource_url, format, cache, verbose, logic_parser, fstruct_reader, encoding)\u001b[0m\n\u001b[1;32m    748\u001b[0m \u001b[0;34m\u001b[0m\u001b[0m\n\u001b[1;32m    749\u001b[0m     \u001b[0;31m# Load the resource.\u001b[0m\u001b[0;34m\u001b[0m\u001b[0;34m\u001b[0m\u001b[0m\n\u001b[0;32m--> 750\u001b[0;31m     \u001b[0mopened_resource\u001b[0m \u001b[0;34m=\u001b[0m \u001b[0m_open\u001b[0m\u001b[0;34m(\u001b[0m\u001b[0mresource_url\u001b[0m\u001b[0;34m)\u001b[0m\u001b[0;34m\u001b[0m\u001b[0;34m\u001b[0m\u001b[0m\n\u001b[0m\u001b[1;32m    751\u001b[0m \u001b[0;34m\u001b[0m\u001b[0m\n\u001b[1;32m    752\u001b[0m     \u001b[0;32mif\u001b[0m \u001b[0mformat\u001b[0m \u001b[0;34m==\u001b[0m \u001b[0;34m\"raw\"\u001b[0m\u001b[0;34m:\u001b[0m\u001b[0;34m\u001b[0m\u001b[0;34m\u001b[0m\u001b[0m\n",
            "\u001b[0;32m/usr/local/lib/python3.9/dist-packages/nltk/data.py\u001b[0m in \u001b[0;36m_open\u001b[0;34m(resource_url)\u001b[0m\n\u001b[1;32m    874\u001b[0m \u001b[0;34m\u001b[0m\u001b[0m\n\u001b[1;32m    875\u001b[0m     \u001b[0;32mif\u001b[0m \u001b[0mprotocol\u001b[0m \u001b[0;32mis\u001b[0m \u001b[0;32mNone\u001b[0m \u001b[0;32mor\u001b[0m \u001b[0mprotocol\u001b[0m\u001b[0;34m.\u001b[0m\u001b[0mlower\u001b[0m\u001b[0;34m(\u001b[0m\u001b[0;34m)\u001b[0m \u001b[0;34m==\u001b[0m \u001b[0;34m\"nltk\"\u001b[0m\u001b[0;34m:\u001b[0m\u001b[0;34m\u001b[0m\u001b[0;34m\u001b[0m\u001b[0m\n\u001b[0;32m--> 876\u001b[0;31m         \u001b[0;32mreturn\u001b[0m \u001b[0mfind\u001b[0m\u001b[0;34m(\u001b[0m\u001b[0mpath_\u001b[0m\u001b[0;34m,\u001b[0m \u001b[0mpath\u001b[0m \u001b[0;34m+\u001b[0m \u001b[0;34m[\u001b[0m\u001b[0;34m\"\"\u001b[0m\u001b[0;34m]\u001b[0m\u001b[0;34m)\u001b[0m\u001b[0;34m.\u001b[0m\u001b[0mopen\u001b[0m\u001b[0;34m(\u001b[0m\u001b[0;34m)\u001b[0m\u001b[0;34m\u001b[0m\u001b[0;34m\u001b[0m\u001b[0m\n\u001b[0m\u001b[1;32m    877\u001b[0m     \u001b[0;32melif\u001b[0m \u001b[0mprotocol\u001b[0m\u001b[0;34m.\u001b[0m\u001b[0mlower\u001b[0m\u001b[0;34m(\u001b[0m\u001b[0;34m)\u001b[0m \u001b[0;34m==\u001b[0m \u001b[0;34m\"file\"\u001b[0m\u001b[0;34m:\u001b[0m\u001b[0;34m\u001b[0m\u001b[0;34m\u001b[0m\u001b[0m\n\u001b[1;32m    878\u001b[0m         \u001b[0;31m# urllib might not use mode='rb', so handle this one ourselves:\u001b[0m\u001b[0;34m\u001b[0m\u001b[0;34m\u001b[0m\u001b[0m\n",
            "\u001b[0;32m/usr/local/lib/python3.9/dist-packages/nltk/data.py\u001b[0m in \u001b[0;36mfind\u001b[0;34m(resource_name, paths)\u001b[0m\n\u001b[1;32m    581\u001b[0m     \u001b[0msep\u001b[0m \u001b[0;34m=\u001b[0m \u001b[0;34m\"*\"\u001b[0m \u001b[0;34m*\u001b[0m \u001b[0;36m70\u001b[0m\u001b[0;34m\u001b[0m\u001b[0;34m\u001b[0m\u001b[0m\n\u001b[1;32m    582\u001b[0m     \u001b[0mresource_not_found\u001b[0m \u001b[0;34m=\u001b[0m \u001b[0;34mf\"\\n{sep}\\n{msg}\\n{sep}\\n\"\u001b[0m\u001b[0;34m\u001b[0m\u001b[0;34m\u001b[0m\u001b[0m\n\u001b[0;32m--> 583\u001b[0;31m     \u001b[0;32mraise\u001b[0m \u001b[0mLookupError\u001b[0m\u001b[0;34m(\u001b[0m\u001b[0mresource_not_found\u001b[0m\u001b[0;34m)\u001b[0m\u001b[0;34m\u001b[0m\u001b[0;34m\u001b[0m\u001b[0m\n\u001b[0m\u001b[1;32m    584\u001b[0m \u001b[0;34m\u001b[0m\u001b[0m\n\u001b[1;32m    585\u001b[0m \u001b[0;34m\u001b[0m\u001b[0m\n",
            "\u001b[0;31mLookupError\u001b[0m: \n**********************************************************************\n  Resource \u001b[93mpunkt\u001b[0m not found.\n  Please use the NLTK Downloader to obtain the resource:\n\n  \u001b[31m>>> import nltk\n  >>> nltk.download('punkt')\n  \u001b[0m\n  For more information see: https://www.nltk.org/data.html\n\n  Attempted to load \u001b[93mtokenizers/punkt/PY3/english.pickle\u001b[0m\n\n  Searched in:\n    - '/root/nltk_data'\n    - '/usr/nltk_data'\n    - '/usr/share/nltk_data'\n    - '/usr/lib/nltk_data'\n    - '/usr/share/nltk_data'\n    - '/usr/local/share/nltk_data'\n    - '/usr/lib/nltk_data'\n    - '/usr/local/lib/nltk_data'\n    - ''\n**********************************************************************\n"
          ]
        }
      ],
      "source": [
        "# Run this cell without changes\n",
        "len(sent_tokenize(X_train.iloc[100][\"text\"]))"
      ]
    },
    {
      "cell_type": "markdown",
      "metadata": {
        "id": "pgcSxPJIFcLj"
      },
      "source": [
        "The following code adds a feature `num_sentences` to `X_train`:"
      ]
    },
    {
      "cell_type": "code",
      "execution_count": 50,
      "metadata": {
        "colab": {
          "base_uri": "https://localhost:8080/",
          "height": 711
        },
        "id": "7nBaih0cFcLk",
        "outputId": "525e1cd9-22eb-4f19-937e-33c1f906c3c3"
      },
      "outputs": [
        {
          "output_type": "error",
          "ename": "LookupError",
          "evalue": "ignored",
          "traceback": [
            "\u001b[0;31m---------------------------------------------------------------------------\u001b[0m",
            "\u001b[0;31mLookupError\u001b[0m                               Traceback (most recent call last)",
            "\u001b[0;32m<ipython-input-50-7d0eab478843>\u001b[0m in \u001b[0;36m<module>\u001b[0;34m\u001b[0m\n\u001b[1;32m      1\u001b[0m \u001b[0;31m# Run this cell without changes\u001b[0m\u001b[0;34m\u001b[0m\u001b[0;34m\u001b[0m\u001b[0m\n\u001b[0;32m----> 2\u001b[0;31m \u001b[0mX_train\u001b[0m\u001b[0;34m[\u001b[0m\u001b[0;34m\"num_sentences\"\u001b[0m\u001b[0;34m]\u001b[0m \u001b[0;34m=\u001b[0m \u001b[0mX_train\u001b[0m\u001b[0;34m[\u001b[0m\u001b[0;34m\"text\"\u001b[0m\u001b[0;34m]\u001b[0m\u001b[0;34m.\u001b[0m\u001b[0mapply\u001b[0m\u001b[0;34m(\u001b[0m\u001b[0;32mlambda\u001b[0m \u001b[0mx\u001b[0m\u001b[0;34m:\u001b[0m \u001b[0mlen\u001b[0m\u001b[0;34m(\u001b[0m\u001b[0msent_tokenize\u001b[0m\u001b[0;34m(\u001b[0m\u001b[0mx\u001b[0m\u001b[0;34m)\u001b[0m\u001b[0;34m)\u001b[0m\u001b[0;34m)\u001b[0m\u001b[0;34m\u001b[0m\u001b[0;34m\u001b[0m\u001b[0m\n\u001b[0m",
            "\u001b[0;32m/usr/local/lib/python3.9/dist-packages/pandas/core/series.py\u001b[0m in \u001b[0;36mapply\u001b[0;34m(self, func, convert_dtype, args, **kwargs)\u001b[0m\n\u001b[1;32m   4431\u001b[0m         \u001b[0mdtype\u001b[0m\u001b[0;34m:\u001b[0m \u001b[0mfloat64\u001b[0m\u001b[0;34m\u001b[0m\u001b[0;34m\u001b[0m\u001b[0m\n\u001b[1;32m   4432\u001b[0m         \"\"\"\n\u001b[0;32m-> 4433\u001b[0;31m         \u001b[0;32mreturn\u001b[0m \u001b[0mSeriesApply\u001b[0m\u001b[0;34m(\u001b[0m\u001b[0mself\u001b[0m\u001b[0;34m,\u001b[0m \u001b[0mfunc\u001b[0m\u001b[0;34m,\u001b[0m \u001b[0mconvert_dtype\u001b[0m\u001b[0;34m,\u001b[0m \u001b[0margs\u001b[0m\u001b[0;34m,\u001b[0m \u001b[0mkwargs\u001b[0m\u001b[0;34m)\u001b[0m\u001b[0;34m.\u001b[0m\u001b[0mapply\u001b[0m\u001b[0;34m(\u001b[0m\u001b[0;34m)\u001b[0m\u001b[0;34m\u001b[0m\u001b[0;34m\u001b[0m\u001b[0m\n\u001b[0m\u001b[1;32m   4434\u001b[0m \u001b[0;34m\u001b[0m\u001b[0m\n\u001b[1;32m   4435\u001b[0m     def _reduce(\n",
            "\u001b[0;32m/usr/local/lib/python3.9/dist-packages/pandas/core/apply.py\u001b[0m in \u001b[0;36mapply\u001b[0;34m(self)\u001b[0m\n\u001b[1;32m   1086\u001b[0m             \u001b[0;32mreturn\u001b[0m \u001b[0mself\u001b[0m\u001b[0;34m.\u001b[0m\u001b[0mapply_str\u001b[0m\u001b[0;34m(\u001b[0m\u001b[0;34m)\u001b[0m\u001b[0;34m\u001b[0m\u001b[0;34m\u001b[0m\u001b[0m\n\u001b[1;32m   1087\u001b[0m \u001b[0;34m\u001b[0m\u001b[0m\n\u001b[0;32m-> 1088\u001b[0;31m         \u001b[0;32mreturn\u001b[0m \u001b[0mself\u001b[0m\u001b[0;34m.\u001b[0m\u001b[0mapply_standard\u001b[0m\u001b[0;34m(\u001b[0m\u001b[0;34m)\u001b[0m\u001b[0;34m\u001b[0m\u001b[0;34m\u001b[0m\u001b[0m\n\u001b[0m\u001b[1;32m   1089\u001b[0m \u001b[0;34m\u001b[0m\u001b[0m\n\u001b[1;32m   1090\u001b[0m     \u001b[0;32mdef\u001b[0m \u001b[0magg\u001b[0m\u001b[0;34m(\u001b[0m\u001b[0mself\u001b[0m\u001b[0;34m)\u001b[0m\u001b[0;34m:\u001b[0m\u001b[0;34m\u001b[0m\u001b[0;34m\u001b[0m\u001b[0m\n",
            "\u001b[0;32m/usr/local/lib/python3.9/dist-packages/pandas/core/apply.py\u001b[0m in \u001b[0;36mapply_standard\u001b[0;34m(self)\u001b[0m\n\u001b[1;32m   1141\u001b[0m                 \u001b[0;31m# List[Union[Callable[..., Any], str]]]]]\"; expected\u001b[0m\u001b[0;34m\u001b[0m\u001b[0;34m\u001b[0m\u001b[0m\n\u001b[1;32m   1142\u001b[0m                 \u001b[0;31m# \"Callable[[Any], Any]\"\u001b[0m\u001b[0;34m\u001b[0m\u001b[0;34m\u001b[0m\u001b[0m\n\u001b[0;32m-> 1143\u001b[0;31m                 mapped = lib.map_infer(\n\u001b[0m\u001b[1;32m   1144\u001b[0m                     \u001b[0mvalues\u001b[0m\u001b[0;34m,\u001b[0m\u001b[0;34m\u001b[0m\u001b[0;34m\u001b[0m\u001b[0m\n\u001b[1;32m   1145\u001b[0m                     \u001b[0mf\u001b[0m\u001b[0;34m,\u001b[0m  \u001b[0;31m# type: ignore[arg-type]\u001b[0m\u001b[0;34m\u001b[0m\u001b[0;34m\u001b[0m\u001b[0m\n",
            "\u001b[0;32m/usr/local/lib/python3.9/dist-packages/pandas/_libs/lib.pyx\u001b[0m in \u001b[0;36mpandas._libs.lib.map_infer\u001b[0;34m()\u001b[0m\n",
            "\u001b[0;32m<ipython-input-50-7d0eab478843>\u001b[0m in \u001b[0;36m<lambda>\u001b[0;34m(x)\u001b[0m\n\u001b[1;32m      1\u001b[0m \u001b[0;31m# Run this cell without changes\u001b[0m\u001b[0;34m\u001b[0m\u001b[0;34m\u001b[0m\u001b[0m\n\u001b[0;32m----> 2\u001b[0;31m \u001b[0mX_train\u001b[0m\u001b[0;34m[\u001b[0m\u001b[0;34m\"num_sentences\"\u001b[0m\u001b[0;34m]\u001b[0m \u001b[0;34m=\u001b[0m \u001b[0mX_train\u001b[0m\u001b[0;34m[\u001b[0m\u001b[0;34m\"text\"\u001b[0m\u001b[0;34m]\u001b[0m\u001b[0;34m.\u001b[0m\u001b[0mapply\u001b[0m\u001b[0;34m(\u001b[0m\u001b[0;32mlambda\u001b[0m \u001b[0mx\u001b[0m\u001b[0;34m:\u001b[0m \u001b[0mlen\u001b[0m\u001b[0;34m(\u001b[0m\u001b[0msent_tokenize\u001b[0m\u001b[0;34m(\u001b[0m\u001b[0mx\u001b[0m\u001b[0;34m)\u001b[0m\u001b[0;34m)\u001b[0m\u001b[0;34m)\u001b[0m\u001b[0;34m\u001b[0m\u001b[0;34m\u001b[0m\u001b[0m\n\u001b[0m",
            "\u001b[0;32m/usr/local/lib/python3.9/dist-packages/nltk/tokenize/__init__.py\u001b[0m in \u001b[0;36msent_tokenize\u001b[0;34m(text, language)\u001b[0m\n\u001b[1;32m    104\u001b[0m     \u001b[0;34m:\u001b[0m\u001b[0mparam\u001b[0m \u001b[0mlanguage\u001b[0m\u001b[0;34m:\u001b[0m \u001b[0mthe\u001b[0m \u001b[0mmodel\u001b[0m \u001b[0mname\u001b[0m \u001b[0;32min\u001b[0m \u001b[0mthe\u001b[0m \u001b[0mPunkt\u001b[0m \u001b[0mcorpus\u001b[0m\u001b[0;34m\u001b[0m\u001b[0;34m\u001b[0m\u001b[0m\n\u001b[1;32m    105\u001b[0m     \"\"\"\n\u001b[0;32m--> 106\u001b[0;31m     \u001b[0mtokenizer\u001b[0m \u001b[0;34m=\u001b[0m \u001b[0mload\u001b[0m\u001b[0;34m(\u001b[0m\u001b[0;34mf\"tokenizers/punkt/{language}.pickle\"\u001b[0m\u001b[0;34m)\u001b[0m\u001b[0;34m\u001b[0m\u001b[0;34m\u001b[0m\u001b[0m\n\u001b[0m\u001b[1;32m    107\u001b[0m     \u001b[0;32mreturn\u001b[0m \u001b[0mtokenizer\u001b[0m\u001b[0;34m.\u001b[0m\u001b[0mtokenize\u001b[0m\u001b[0;34m(\u001b[0m\u001b[0mtext\u001b[0m\u001b[0;34m)\u001b[0m\u001b[0;34m\u001b[0m\u001b[0;34m\u001b[0m\u001b[0m\n\u001b[1;32m    108\u001b[0m \u001b[0;34m\u001b[0m\u001b[0m\n",
            "\u001b[0;32m/usr/local/lib/python3.9/dist-packages/nltk/data.py\u001b[0m in \u001b[0;36mload\u001b[0;34m(resource_url, format, cache, verbose, logic_parser, fstruct_reader, encoding)\u001b[0m\n\u001b[1;32m    748\u001b[0m \u001b[0;34m\u001b[0m\u001b[0m\n\u001b[1;32m    749\u001b[0m     \u001b[0;31m# Load the resource.\u001b[0m\u001b[0;34m\u001b[0m\u001b[0;34m\u001b[0m\u001b[0m\n\u001b[0;32m--> 750\u001b[0;31m     \u001b[0mopened_resource\u001b[0m \u001b[0;34m=\u001b[0m \u001b[0m_open\u001b[0m\u001b[0;34m(\u001b[0m\u001b[0mresource_url\u001b[0m\u001b[0;34m)\u001b[0m\u001b[0;34m\u001b[0m\u001b[0;34m\u001b[0m\u001b[0m\n\u001b[0m\u001b[1;32m    751\u001b[0m \u001b[0;34m\u001b[0m\u001b[0m\n\u001b[1;32m    752\u001b[0m     \u001b[0;32mif\u001b[0m \u001b[0mformat\u001b[0m \u001b[0;34m==\u001b[0m \u001b[0;34m\"raw\"\u001b[0m\u001b[0;34m:\u001b[0m\u001b[0;34m\u001b[0m\u001b[0;34m\u001b[0m\u001b[0m\n",
            "\u001b[0;32m/usr/local/lib/python3.9/dist-packages/nltk/data.py\u001b[0m in \u001b[0;36m_open\u001b[0;34m(resource_url)\u001b[0m\n\u001b[1;32m    874\u001b[0m \u001b[0;34m\u001b[0m\u001b[0m\n\u001b[1;32m    875\u001b[0m     \u001b[0;32mif\u001b[0m \u001b[0mprotocol\u001b[0m \u001b[0;32mis\u001b[0m \u001b[0;32mNone\u001b[0m \u001b[0;32mor\u001b[0m \u001b[0mprotocol\u001b[0m\u001b[0;34m.\u001b[0m\u001b[0mlower\u001b[0m\u001b[0;34m(\u001b[0m\u001b[0;34m)\u001b[0m \u001b[0;34m==\u001b[0m \u001b[0;34m\"nltk\"\u001b[0m\u001b[0;34m:\u001b[0m\u001b[0;34m\u001b[0m\u001b[0;34m\u001b[0m\u001b[0m\n\u001b[0;32m--> 876\u001b[0;31m         \u001b[0;32mreturn\u001b[0m \u001b[0mfind\u001b[0m\u001b[0;34m(\u001b[0m\u001b[0mpath_\u001b[0m\u001b[0;34m,\u001b[0m \u001b[0mpath\u001b[0m \u001b[0;34m+\u001b[0m \u001b[0;34m[\u001b[0m\u001b[0;34m\"\"\u001b[0m\u001b[0;34m]\u001b[0m\u001b[0;34m)\u001b[0m\u001b[0;34m.\u001b[0m\u001b[0mopen\u001b[0m\u001b[0;34m(\u001b[0m\u001b[0;34m)\u001b[0m\u001b[0;34m\u001b[0m\u001b[0;34m\u001b[0m\u001b[0m\n\u001b[0m\u001b[1;32m    877\u001b[0m     \u001b[0;32melif\u001b[0m \u001b[0mprotocol\u001b[0m\u001b[0;34m.\u001b[0m\u001b[0mlower\u001b[0m\u001b[0;34m(\u001b[0m\u001b[0;34m)\u001b[0m \u001b[0;34m==\u001b[0m \u001b[0;34m\"file\"\u001b[0m\u001b[0;34m:\u001b[0m\u001b[0;34m\u001b[0m\u001b[0;34m\u001b[0m\u001b[0m\n\u001b[1;32m    878\u001b[0m         \u001b[0;31m# urllib might not use mode='rb', so handle this one ourselves:\u001b[0m\u001b[0;34m\u001b[0m\u001b[0;34m\u001b[0m\u001b[0m\n",
            "\u001b[0;32m/usr/local/lib/python3.9/dist-packages/nltk/data.py\u001b[0m in \u001b[0;36mfind\u001b[0;34m(resource_name, paths)\u001b[0m\n\u001b[1;32m    581\u001b[0m     \u001b[0msep\u001b[0m \u001b[0;34m=\u001b[0m \u001b[0;34m\"*\"\u001b[0m \u001b[0;34m*\u001b[0m \u001b[0;36m70\u001b[0m\u001b[0;34m\u001b[0m\u001b[0;34m\u001b[0m\u001b[0m\n\u001b[1;32m    582\u001b[0m     \u001b[0mresource_not_found\u001b[0m \u001b[0;34m=\u001b[0m \u001b[0;34mf\"\\n{sep}\\n{msg}\\n{sep}\\n\"\u001b[0m\u001b[0;34m\u001b[0m\u001b[0;34m\u001b[0m\u001b[0m\n\u001b[0;32m--> 583\u001b[0;31m     \u001b[0;32mraise\u001b[0m \u001b[0mLookupError\u001b[0m\u001b[0;34m(\u001b[0m\u001b[0mresource_not_found\u001b[0m\u001b[0;34m)\u001b[0m\u001b[0;34m\u001b[0m\u001b[0;34m\u001b[0m\u001b[0m\n\u001b[0m\u001b[1;32m    584\u001b[0m \u001b[0;34m\u001b[0m\u001b[0m\n\u001b[1;32m    585\u001b[0m \u001b[0;34m\u001b[0m\u001b[0m\n",
            "\u001b[0;31mLookupError\u001b[0m: \n**********************************************************************\n  Resource \u001b[93mpunkt\u001b[0m not found.\n  Please use the NLTK Downloader to obtain the resource:\n\n  \u001b[31m>>> import nltk\n  >>> nltk.download('punkt')\n  \u001b[0m\n  For more information see: https://www.nltk.org/data.html\n\n  Attempted to load \u001b[93mtokenizers/punkt/PY3/english.pickle\u001b[0m\n\n  Searched in:\n    - '/root/nltk_data'\n    - '/usr/nltk_data'\n    - '/usr/share/nltk_data'\n    - '/usr/lib/nltk_data'\n    - '/usr/share/nltk_data'\n    - '/usr/local/share/nltk_data'\n    - '/usr/lib/nltk_data'\n    - '/usr/local/lib/nltk_data'\n    - ''\n**********************************************************************\n"
          ]
        }
      ],
      "source": [
        "# Run this cell without changes\n",
        "X_train[\"num_sentences\"] = X_train[\"text\"].apply(lambda x: len(sent_tokenize(x)))"
      ]
    },
    {
      "cell_type": "code",
      "execution_count": null,
      "metadata": {
        "id": "DfNChJzNFcLk"
      },
      "outputs": [],
      "source": [
        "# Run this cell without changes\n",
        "fig, axes = setup_five_subplots()\n",
        "plot_distribution_of_column_by_category(\"num_sentences\", axes, \"Numbers of Sentences for\")\n",
        "fig.suptitle(\"Distributions of Sentence Counts by Category\", fontsize=24);"
      ]
    },
    {
      "cell_type": "markdown",
      "metadata": {
        "id": "tueoVUMoFcLl"
      },
      "source": [
        "Does this seem like a useful feature? Maybe. The distributions differ a bit, but it's hard to know if our model will pick up on this information. Let's go ahead and keep it."
      ]
    },
    {
      "cell_type": "markdown",
      "metadata": {
        "id": "uQe-5deZFcLm"
      },
      "source": [
        "#### Contains a Price\n",
        "\n",
        "The idea here is particularly to be able to distinguish the `misc.forsale` category, but it might also help with identifying the others. Let's use RegEx to check if the text contains a price:"
      ]
    },
    {
      "cell_type": "code",
      "execution_count": null,
      "metadata": {
        "id": "Mv5b76LMFcLm"
      },
      "outputs": [],
      "source": [
        "# Run this cell without changes\n",
        "\n",
        "# Define a price as a dollar sign followed by 1-3 numbers,\n",
        "# optional commas or decimals, 1-2 numbers after the decimal\n",
        "# (we're not too worried about accidentally matching malformed prices)\n",
        "price_query = r'\\$(?:\\d{1,3}[,.]?)+(?:\\\\d{1,2})?'\n",
        "\n",
        "X_train[\"contains_price\"] = X_train[\"text\"].str.contains(price_query)\n",
        "\n",
        "fig, axes = setup_five_subplots()\n",
        "plot_distribution_of_column_by_category(\"contains_price\", axes, \"Freqency of Posts Containing Prices for\")\n",
        "fig.suptitle(\"Distributions of Posts Containing Prices by Category\", fontsize=24);"
      ]
    },
    {
      "cell_type": "markdown",
      "metadata": {
        "id": "JYd8Ut_qFcLn"
      },
      "source": [
        "As we expected, the `misc.forsale` category looks pretty different from the others. More than half of those posts contain prices, whereas the overwhelming majority of posts in other categories do not contain prices. Let's include this in our final model."
      ]
    },
    {
      "cell_type": "markdown",
      "metadata": {
        "id": "74ui_NOOFcLo"
      },
      "source": [
        "#### Contains an Emoticon\n",
        "\n",
        "This is a bit silly, but we were wondering whether different categories feature different numbers of emoticons.\n",
        "\n",
        "Here we define an emoticon as an ASCII character representing eyes, an optional ASCII character representing a nose, and an ASCII character representing a mouth."
      ]
    },
    {
      "cell_type": "code",
      "execution_count": null,
      "metadata": {
        "id": "q7bCMgl2FcLp"
      },
      "outputs": [],
      "source": [
        "# Run this cell without changes\n",
        "\n",
        "emoticon_query = r'(?:[\\:;X=B][-^]?[)\\]3D([OP/\\\\|])(?:(?=\\s))'\n",
        "\n",
        "X_train[\"contains_emoticon\"] = X_train[\"text\"].str.contains(emoticon_query)\n",
        "\n",
        "fig, axes = setup_five_subplots()\n",
        "plot_distribution_of_column_by_category(\"contains_emoticon\", axes, \"Freqency of Posts Containing Emoticons for\")\n",
        "fig.suptitle(\"Distributions of Posts Containing Emoticons by Category\", fontsize=24);"
      ]
    },
    {
      "cell_type": "markdown",
      "metadata": {
        "id": "d47fXvQUFcLp"
      },
      "source": [
        "Well, that was a lot less definitive. Emoticons are fairly rare across categories. But, there are some small differences so let's go ahead and keep it."
      ]
    },
    {
      "cell_type": "markdown",
      "metadata": {
        "id": "bkH7O7qpFcLq"
      },
      "source": [
        "#### Modeling with Vectorized Features + Engineered Features \n",
        "\n",
        "Let's combine our best vectorizer with these new features:"
      ]
    },
    {
      "cell_type": "code",
      "execution_count": null,
      "metadata": {
        "id": "NQKmE0UeFcLr"
      },
      "outputs": [],
      "source": [
        "# Run this cell without changes\n",
        "\n",
        "# Instantiate the vectorizer\n",
        "tfidf = TfidfVectorizer(\n",
        "    max_features=10,\n",
        "    stop_words=stemmed_stopwords,\n",
        "    tokenizer=stem_and_tokenize\n",
        ")\n",
        "\n",
        "# Fit the vectorizer on X_train[\"text\"] and transform it\n",
        "X_train_vectorized = tfidf.fit_transform(X_train[\"text\"])\n",
        "\n",
        "# Create a full df of vectorized + engineered features\n",
        "X_train_vectorized_df = pd.DataFrame(X_train_vectorized.toarray(), columns=tfidf.get_feature_names())\n",
        "preprocessed_X_train = pd.concat([\n",
        "    X_train_vectorized_df, X_train[[\"num_sentences\", \"contains_price\", \"contains_emoticon\"]]\n",
        "], axis=1)\n",
        "preprocessed_X_train"
      ]
    },
    {
      "cell_type": "code",
      "execution_count": null,
      "metadata": {
        "id": "wXf42s88FcLs"
      },
      "outputs": [],
      "source": [
        "# Run this cell without changes\n",
        "preprocessed_cv = cross_val_score(baseline_model, preprocessed_X_train, y_train)\n",
        "preprocessed_cv"
      ]
    },
    {
      "cell_type": "code",
      "execution_count": null,
      "metadata": {
        "id": "prmF64b6FcLt"
      },
      "outputs": [],
      "source": [
        "# Run this cell without changes\n",
        "print(\"Stemmed:           \", stemmed_cv.mean())\n",
        "print(\"Fully preprocessed:\", preprocessed_cv.mean())"
      ]
    },
    {
      "cell_type": "markdown",
      "metadata": {
        "id": "CjvIdN8LFcLv"
      },
      "source": [
        "Ok, another small improvement! We're still a bit below 50% accuracy, but we're getting improvements every time."
      ]
    },
    {
      "cell_type": "markdown",
      "metadata": {
        "id": "uUwRLYKBFcLw"
      },
      "source": [
        "### Increasing `max_features`\n",
        "\n",
        "Right now we are only allowing the model to look at the tf-idf of the top 10 most frequent tokens. If we allow it to look at all possible tokens, that could lead to high dimensionality issues (especially if we have more rows than columns), but there is a lot of room between 10 and `len(X_train)` features:"
      ]
    },
    {
      "cell_type": "code",
      "execution_count": null,
      "metadata": {
        "id": "9GIfEdSdFcLx"
      },
      "outputs": [],
      "source": [
        "# Run this cell without changes\n",
        "len(X_train)"
      ]
    },
    {
      "cell_type": "markdown",
      "metadata": {
        "id": "akyT37JbFcLy"
      },
      "source": [
        "(In other words, setting `max_features` to 2838 would mean an equal number of rows and columns, something that can cause problems for many model algorithms.)\n",
        "\n",
        "Let's try increasing `max_features` from 10 to 200:"
      ]
    },
    {
      "cell_type": "code",
      "execution_count": null,
      "metadata": {
        "id": "HEEMYAscFcLz"
      },
      "outputs": [],
      "source": [
        "# Replace None with appropriate code\n",
        "\n",
        "# Instantiate the vectorizer\n",
        "tfidf = TfidfVectorizer(\n",
        "    max_features=None,\n",
        "    stop_words=stemmed_stopwords,\n",
        "    tokenizer=stem_and_tokenize\n",
        ")\n",
        "\n",
        "# Fit the vectorizer on X_train[\"text\"] and transform it\n",
        "X_train_vectorized = tfidf.fit_transform(X_train[\"text\"])\n",
        "\n",
        "# Create a full df of vectorized + engineered features\n",
        "X_train_vectorized_df = pd.DataFrame(X_train_vectorized.toarray(), columns=tfidf.get_feature_names())\n",
        "final_X_train = pd.concat([\n",
        "    X_train_vectorized_df, X_train[[\"num_sentences\", \"contains_price\", \"contains_emoticon\"]]\n",
        "], axis=1)\n",
        "final_X_train"
      ]
    },
    {
      "cell_type": "code",
      "execution_count": null,
      "metadata": {
        "id": "ohwSmOMQFcL1"
      },
      "outputs": [],
      "source": [
        "# Run this cell without changes\n",
        "\n",
        "final_cv = cross_val_score(baseline_model, final_X_train, y_train)\n",
        "final_cv"
      ]
    },
    {
      "cell_type": "markdown",
      "metadata": {
        "id": "N5_tzPl-FcL2"
      },
      "source": [
        "Nice! Our model was able to learn a lot more with these added features. Let's say this is our final modeling process and move on to a final evaluation."
      ]
    },
    {
      "cell_type": "markdown",
      "metadata": {
        "id": "aZChsYAxFcL3"
      },
      "source": [
        "## 5. Evaluate a Final Model on the Test Set\n",
        "\n",
        "Instantiate the model, fit it on the full training set and check the score:"
      ]
    },
    {
      "cell_type": "code",
      "execution_count": null,
      "metadata": {
        "id": "UTnPvHbEFcL4"
      },
      "outputs": [],
      "source": [
        "# Run this cell without changes\n",
        "final_model = MultinomialNB()\n",
        "\n",
        "final_model.fit(final_X_train, y_train)\n",
        "final_model.score(final_X_train, y_train)"
      ]
    },
    {
      "cell_type": "markdown",
      "metadata": {
        "id": "ly1TEnXLFcL5"
      },
      "source": [
        "Create a vectorized version of `X_test`'s text:"
      ]
    },
    {
      "cell_type": "code",
      "execution_count": null,
      "metadata": {
        "id": "twE74BKYFcL6"
      },
      "outputs": [],
      "source": [
        "# Run this cell without changes\n",
        "\n",
        "# Note that we just transform, don't fit_transform\n",
        "X_test_vectorized = tfidf.transform(X_test[\"text\"])"
      ]
    },
    {
      "cell_type": "markdown",
      "metadata": {
        "id": "lXEI9uQnFcL7"
      },
      "source": [
        "Feature engineering for `X_test`:"
      ]
    },
    {
      "cell_type": "code",
      "execution_count": null,
      "metadata": {
        "id": "xNfTx3O1FcL8"
      },
      "outputs": [],
      "source": [
        "# Run this cell without changes\n",
        "X_test[\"num_sentences\"] = X_test[\"text\"].apply(lambda x: len(sent_tokenize(x)))\n",
        "X_test[\"contains_price\"] = X_test[\"text\"].str.contains(price_query)\n",
        "X_test[\"contains_emoticon\"] = X_test[\"text\"].str.contains(emoticon_query)"
      ]
    },
    {
      "cell_type": "markdown",
      "metadata": {
        "id": "Qin3hyftFcL-"
      },
      "source": [
        "Putting it all together:"
      ]
    },
    {
      "cell_type": "code",
      "execution_count": null,
      "metadata": {
        "id": "eaNOoBfFFcL-"
      },
      "outputs": [],
      "source": [
        "# Run this cell without changes\n",
        "X_test_vectorized_df = pd.DataFrame(X_test_vectorized.toarray(), columns=tfidf.get_feature_names())\n",
        "final_X_test = pd.concat([\n",
        "    X_test_vectorized_df, X_test[[\"num_sentences\", \"contains_price\", \"contains_emoticon\"]]\n",
        "], axis=1)\n",
        "final_X_test"
      ]
    },
    {
      "cell_type": "markdown",
      "metadata": {
        "id": "u_iulkdfFcL_"
      },
      "source": [
        "Scoring on the test set:"
      ]
    },
    {
      "cell_type": "code",
      "execution_count": null,
      "metadata": {
        "id": "UUMl1k7ZFcMA"
      },
      "outputs": [],
      "source": [
        "# Run this cell without changes\n",
        "final_model.score(final_X_test, y_test)"
      ]
    },
    {
      "cell_type": "markdown",
      "metadata": {
        "id": "VhrIU6bAFcMB"
      },
      "source": [
        "Plotting a confusion matrix:"
      ]
    },
    {
      "cell_type": "code",
      "execution_count": null,
      "metadata": {
        "id": "ExdrsUmDFcMB"
      },
      "outputs": [],
      "source": [
        "# Run this cell without changes\n",
        "from sklearn.metrics import plot_confusion_matrix\n",
        "plot_confusion_matrix(final_model, final_X_test, y_test);"
      ]
    },
    {
      "cell_type": "markdown",
      "metadata": {
        "id": "qXqxyLkgFcMC"
      },
      "source": [
        "Recall that these are the names associated with the labels:"
      ]
    },
    {
      "cell_type": "code",
      "execution_count": null,
      "metadata": {
        "id": "LZuS0BJKFcMD"
      },
      "outputs": [],
      "source": [
        "# Run this cell without changes\n",
        "target_values_and_names = train_target_counts.drop(\"count\", axis=1)\n",
        "target_values_and_names"
      ]
    },
    {
      "cell_type": "markdown",
      "metadata": {
        "id": "MrSluqWvFcMD"
      },
      "source": [
        "### Interpreting Results\n",
        "\n",
        "Interpret the results seen above. How well did the model do? How does it compare to random guessing? What can you say about the cases that the model was most likely to mislabel? If this were a project and you were describing next steps, what might those be?"
      ]
    },
    {
      "cell_type": "code",
      "execution_count": null,
      "metadata": {
        "id": "g2Mh2s3LFcME"
      },
      "outputs": [],
      "source": [
        "# Replace None with appropriate text\n",
        "\"\"\"\n",
        "None\n",
        "\"\"\""
      ]
    },
    {
      "cell_type": "markdown",
      "metadata": {
        "id": "KYKl5CIGFcMF"
      },
      "source": [
        "## Summary\n",
        "\n",
        "In this lab, we used our NLP skills to clean, preprocess, explore, and fit models to text data for classification. This wasn't easy — great job!!"
      ]
    }
  ],
  "metadata": {
    "kernelspec": {
      "display_name": "Python (learn-env)",
      "language": "python",
      "name": "learn-env"
    },
    "language_info": {
      "codemirror_mode": {
        "name": "ipython",
        "version": 3
      },
      "file_extension": ".py",
      "mimetype": "text/x-python",
      "name": "python",
      "nbconvert_exporter": "python",
      "pygments_lexer": "ipython3",
      "version": "3.8.5"
    },
    "colab": {
      "provenance": [],
      "include_colab_link": true
    }
  },
  "nbformat": 4,
  "nbformat_minor": 0
}